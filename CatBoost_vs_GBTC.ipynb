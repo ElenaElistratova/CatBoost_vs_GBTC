{
  "nbformat": 4,
  "nbformat_minor": 0,
  "metadata": {
    "colab": {
      "name": "Задание_часть со Spark.ipynb",
      "provenance": [],
      "collapsed_sections": []
    },
    "kernelspec": {
      "name": "python3",
      "display_name": "Python 3"
    },
    "language_info": {
      "name": "python"
    },
    "accelerator": "GPU",
    "gpuClass": "standard",
    "widgets": {
      "application/vnd.jupyter.widget-state+json": {
        "56c954ff6c02455aae487decac07896c": {
          "model_module": "catboost-widget",
          "model_name": "CatboostWidgetModel",
          "model_module_version": "^1.0.0",
          "state": {
            "_dom_classes": [],
            "_model_module": "catboost-widget",
            "_model_module_version": "^1.0.0",
            "_model_name": "CatboostWidgetModel",
            "_view_count": null,
            "_view_module": "catboost-widget",
            "_view_module_version": "^1.0.0",
            "_view_name": "CatboostWidgetView",
            "data": {
              "catboost_info": {
                "path": "catboost_info",
                "name": "catboost_info",
                "content": {
                  "passed_iterations": 199,
                  "total_iterations": 200,
                  "data": {
                    "iterations": [
                      {
                        "learn": [
                          0.4019991172
                        ],
                        "iteration": 0,
                        "passed_time": 0.1091755987,
                        "remaining_time": 21.72594414
                      },
                      {
                        "learn": [
                          0.3166966178
                        ],
                        "iteration": 1,
                        "passed_time": 0.1355600654,
                        "remaining_time": 13.42044647
                      },
                      {
                        "learn": [
                          0.2507860886
                        ],
                        "iteration": 2,
                        "passed_time": 0.1640074502,
                        "remaining_time": 10.76982256
                      },
                      {
                        "learn": [
                          0.2205455264
                        ],
                        "iteration": 3,
                        "passed_time": 0.2134860528,
                        "remaining_time": 10.46081659
                      },
                      {
                        "learn": [
                          0.2077395714
                        ],
                        "iteration": 4,
                        "passed_time": 0.2430286079,
                        "remaining_time": 9.478115708
                      },
                      {
                        "learn": [
                          0.2024049795
                        ],
                        "iteration": 5,
                        "passed_time": 0.2869572204,
                        "remaining_time": 9.278283459
                      },
                      {
                        "learn": [
                          0.1975257288
                        ],
                        "iteration": 6,
                        "passed_time": 0.3190473244,
                        "remaining_time": 8.796590516
                      },
                      {
                        "learn": [
                          0.1909114239
                        ],
                        "iteration": 7,
                        "passed_time": 0.3849202515,
                        "remaining_time": 9.238086035
                      },
                      {
                        "learn": [
                          0.18680122
                        ],
                        "iteration": 8,
                        "passed_time": 0.4583831218,
                        "remaining_time": 9.727908474
                      },
                      {
                        "learn": [
                          0.1851008622
                        ],
                        "iteration": 9,
                        "passed_time": 0.5026860719,
                        "remaining_time": 9.551035367
                      },
                      {
                        "learn": [
                          0.1840445284
                        ],
                        "iteration": 10,
                        "passed_time": 0.5371366572,
                        "remaining_time": 9.228984383
                      },
                      {
                        "learn": [
                          0.1804330008
                        ],
                        "iteration": 11,
                        "passed_time": 0.5789193361,
                        "remaining_time": 9.069736265
                      },
                      {
                        "learn": [
                          0.1795634254
                        ],
                        "iteration": 12,
                        "passed_time": 0.6075541147,
                        "remaining_time": 8.739432266
                      },
                      {
                        "learn": [
                          0.1787219677
                        ],
                        "iteration": 13,
                        "passed_time": 0.6344934658,
                        "remaining_time": 8.429698903
                      },
                      {
                        "learn": [
                          0.17804819
                        ],
                        "iteration": 14,
                        "passed_time": 0.6950711838,
                        "remaining_time": 8.5725446
                      },
                      {
                        "learn": [
                          0.1772820775
                        ],
                        "iteration": 15,
                        "passed_time": 0.7461509308,
                        "remaining_time": 8.580735705
                      },
                      {
                        "learn": [
                          0.1754451956
                        ],
                        "iteration": 16,
                        "passed_time": 0.8135529236,
                        "remaining_time": 8.757657943
                      },
                      {
                        "learn": [
                          0.1747773337
                        ],
                        "iteration": 17,
                        "passed_time": 0.8651330123,
                        "remaining_time": 8.747456014
                      },
                      {
                        "learn": [
                          0.1737571646
                        ],
                        "iteration": 18,
                        "passed_time": 0.9265268984,
                        "remaining_time": 8.826387821
                      },
                      {
                        "learn": [
                          0.1732263752
                        ],
                        "iteration": 19,
                        "passed_time": 0.9883194902,
                        "remaining_time": 8.894875412
                      },
                      {
                        "learn": [
                          0.1728809801
                        ],
                        "iteration": 20,
                        "passed_time": 1.049031098,
                        "remaining_time": 8.94174126
                      },
                      {
                        "learn": [
                          0.1725903216
                        ],
                        "iteration": 21,
                        "passed_time": 1.118885033,
                        "remaining_time": 9.052797085
                      },
                      {
                        "learn": [
                          0.1720708405
                        ],
                        "iteration": 22,
                        "passed_time": 1.177816653,
                        "remaining_time": 9.064067285
                      },
                      {
                        "learn": [
                          0.1714676978
                        ],
                        "iteration": 23,
                        "passed_time": 1.231151198,
                        "remaining_time": 9.028442117
                      },
                      {
                        "learn": [
                          0.1711701607
                        ],
                        "iteration": 24,
                        "passed_time": 1.281724394,
                        "remaining_time": 8.972070755
                      },
                      {
                        "learn": [
                          0.1708200298
                        ],
                        "iteration": 25,
                        "passed_time": 1.320584621,
                        "remaining_time": 8.837758615
                      },
                      {
                        "learn": [
                          0.1704703461
                        ],
                        "iteration": 26,
                        "passed_time": 1.383311246,
                        "remaining_time": 8.863438725
                      },
                      {
                        "learn": [
                          0.1701911194
                        ],
                        "iteration": 27,
                        "passed_time": 1.460331134,
                        "remaining_time": 8.970605539
                      },
                      {
                        "learn": [
                          0.1696878437
                        ],
                        "iteration": 28,
                        "passed_time": 1.514567741,
                        "remaining_time": 8.930727026
                      },
                      {
                        "learn": [
                          0.1692027096
                        ],
                        "iteration": 29,
                        "passed_time": 1.536372037,
                        "remaining_time": 8.706108209
                      },
                      {
                        "learn": [
                          0.1689214355
                        ],
                        "iteration": 30,
                        "passed_time": 1.582056303,
                        "remaining_time": 8.624758553
                      },
                      {
                        "learn": [
                          0.1685347921
                        ],
                        "iteration": 31,
                        "passed_time": 1.646783926,
                        "remaining_time": 8.645615611
                      },
                      {
                        "learn": [
                          0.1680492253
                        ],
                        "iteration": 32,
                        "passed_time": 1.712027091,
                        "remaining_time": 8.663894673
                      },
                      {
                        "learn": [
                          0.1676939852
                        ],
                        "iteration": 33,
                        "passed_time": 1.769414961,
                        "remaining_time": 8.638908341
                      },
                      {
                        "learn": [
                          0.1671335836
                        ],
                        "iteration": 34,
                        "passed_time": 1.842946046,
                        "remaining_time": 8.688174219
                      },
                      {
                        "learn": [
                          0.1666113486
                        ],
                        "iteration": 35,
                        "passed_time": 1.900812798,
                        "remaining_time": 8.659258302
                      },
                      {
                        "learn": [
                          0.1662861749
                        ],
                        "iteration": 36,
                        "passed_time": 1.966115404,
                        "remaining_time": 8.661535427
                      },
                      {
                        "learn": [
                          0.1658853897
                        ],
                        "iteration": 37,
                        "passed_time": 2.0239716,
                        "remaining_time": 8.628510505
                      },
                      {
                        "learn": [
                          0.1656339111
                        ],
                        "iteration": 38,
                        "passed_time": 2.080462345,
                        "remaining_time": 8.58857532
                      },
                      {
                        "learn": [
                          0.16524126
                        ],
                        "iteration": 39,
                        "passed_time": 2.134782325,
                        "remaining_time": 8.5391293
                      },
                      {
                        "learn": [
                          0.164970084
                        ],
                        "iteration": 40,
                        "passed_time": 2.190108,
                        "remaining_time": 8.49334566
                      },
                      {
                        "learn": [
                          0.1646110794
                        ],
                        "iteration": 41,
                        "passed_time": 2.249627893,
                        "remaining_time": 8.462885884
                      },
                      {
                        "learn": [
                          0.1642883981
                        ],
                        "iteration": 42,
                        "passed_time": 2.296362143,
                        "remaining_time": 8.384392012
                      },
                      {
                        "learn": [
                          0.1639572016
                        ],
                        "iteration": 43,
                        "passed_time": 2.346948606,
                        "remaining_time": 8.320999603
                      },
                      {
                        "learn": [
                          0.1635943116
                        ],
                        "iteration": 44,
                        "passed_time": 2.405113543,
                        "remaining_time": 8.284279982
                      },
                      {
                        "learn": [
                          0.1633052706
                        ],
                        "iteration": 45,
                        "passed_time": 2.450126835,
                        "remaining_time": 8.202598535
                      },
                      {
                        "learn": [
                          0.1630080405
                        ],
                        "iteration": 46,
                        "passed_time": 2.493948559,
                        "remaining_time": 8.1185985
                      },
                      {
                        "learn": [
                          0.1627570354
                        ],
                        "iteration": 47,
                        "passed_time": 2.53091313,
                        "remaining_time": 8.014558246
                      },
                      {
                        "learn": [
                          0.1625324446
                        ],
                        "iteration": 48,
                        "passed_time": 2.567244537,
                        "remaining_time": 7.911304594
                      },
                      {
                        "learn": [
                          0.1623411689
                        ],
                        "iteration": 49,
                        "passed_time": 2.614245146,
                        "remaining_time": 7.842735437
                      },
                      {
                        "learn": [
                          0.1620747915
                        ],
                        "iteration": 50,
                        "passed_time": 2.679539323,
                        "remaining_time": 7.828458023
                      },
                      {
                        "learn": [
                          0.1617799315
                        ],
                        "iteration": 51,
                        "passed_time": 2.748528522,
                        "remaining_time": 7.822735025
                      },
                      {
                        "learn": [
                          0.1614845374
                        ],
                        "iteration": 52,
                        "passed_time": 2.842502069,
                        "remaining_time": 7.883920833
                      },
                      {
                        "learn": [
                          0.1612770791
                        ],
                        "iteration": 53,
                        "passed_time": 2.941869318,
                        "remaining_time": 7.95394297
                      },
                      {
                        "learn": [
                          0.1610021853
                        ],
                        "iteration": 54,
                        "passed_time": 3.008802429,
                        "remaining_time": 7.932297313
                      },
                      {
                        "learn": [
                          0.16067031
                        ],
                        "iteration": 55,
                        "passed_time": 3.058119609,
                        "remaining_time": 7.863736137
                      },
                      {
                        "learn": [
                          0.1604308071
                        ],
                        "iteration": 56,
                        "passed_time": 3.104737273,
                        "remaining_time": 7.789077721
                      },
                      {
                        "learn": [
                          0.1600780933
                        ],
                        "iteration": 57,
                        "passed_time": 3.178965765,
                        "remaining_time": 7.782985148
                      },
                      {
                        "learn": [
                          0.1598040882
                        ],
                        "iteration": 58,
                        "passed_time": 3.236788313,
                        "remaining_time": 7.73537546
                      },
                      {
                        "learn": [
                          0.1596600682
                        ],
                        "iteration": 59,
                        "passed_time": 3.279874292,
                        "remaining_time": 7.653040014
                      },
                      {
                        "learn": [
                          0.1593851528
                        ],
                        "iteration": 60,
                        "passed_time": 3.33101627,
                        "remaining_time": 7.590348549
                      },
                      {
                        "learn": [
                          0.1591953011
                        ],
                        "iteration": 61,
                        "passed_time": 3.374176292,
                        "remaining_time": 7.510263361
                      },
                      {
                        "learn": [
                          0.1589881738
                        ],
                        "iteration": 62,
                        "passed_time": 3.440356806,
                        "remaining_time": 7.481410832
                      },
                      {
                        "learn": [
                          0.1586479584
                        ],
                        "iteration": 63,
                        "passed_time": 3.483278063,
                        "remaining_time": 7.401965884
                      },
                      {
                        "learn": [
                          0.1583445604
                        ],
                        "iteration": 64,
                        "passed_time": 3.53831692,
                        "remaining_time": 7.348812065
                      },
                      {
                        "learn": [
                          0.1581489979
                        ],
                        "iteration": 65,
                        "passed_time": 3.587507772,
                        "remaining_time": 7.283727902
                      },
                      {
                        "learn": [
                          0.1578190508
                        ],
                        "iteration": 66,
                        "passed_time": 3.645474849,
                        "remaining_time": 7.236539625
                      },
                      {
                        "learn": [
                          0.1576515832
                        ],
                        "iteration": 67,
                        "passed_time": 3.690005862,
                        "remaining_time": 7.162952555
                      },
                      {
                        "learn": [
                          0.1572791044
                        ],
                        "iteration": 68,
                        "passed_time": 3.772853972,
                        "remaining_time": 7.162954642
                      },
                      {
                        "learn": [
                          0.1570853247
                        ],
                        "iteration": 69,
                        "passed_time": 3.864947211,
                        "remaining_time": 7.177759107
                      },
                      {
                        "learn": [
                          0.1568717432
                        ],
                        "iteration": 70,
                        "passed_time": 3.901493739,
                        "remaining_time": 7.088629469
                      },
                      {
                        "learn": [
                          0.1566984943
                        ],
                        "iteration": 71,
                        "passed_time": 3.943502576,
                        "remaining_time": 7.010671246
                      },
                      {
                        "learn": [
                          0.1564872234
                        ],
                        "iteration": 72,
                        "passed_time": 3.986594725,
                        "remaining_time": 6.935582603
                      },
                      {
                        "learn": [
                          0.1562539073
                        ],
                        "iteration": 73,
                        "passed_time": 4.052651953,
                        "remaining_time": 6.900461433
                      },
                      {
                        "learn": [
                          0.1560791868
                        ],
                        "iteration": 74,
                        "passed_time": 4.117453841,
                        "remaining_time": 6.862423068
                      },
                      {
                        "learn": [
                          0.1559381359
                        ],
                        "iteration": 75,
                        "passed_time": 4.17554588,
                        "remaining_time": 6.812732752
                      },
                      {
                        "learn": [
                          0.1555012727
                        ],
                        "iteration": 76,
                        "passed_time": 4.256950592,
                        "remaining_time": 6.800063933
                      },
                      {
                        "learn": [
                          0.1552564686
                        ],
                        "iteration": 77,
                        "passed_time": 4.321209581,
                        "remaining_time": 6.758814985
                      },
                      {
                        "learn": [
                          0.1549357138
                        ],
                        "iteration": 78,
                        "passed_time": 4.363851936,
                        "remaining_time": 6.683874484
                      },
                      {
                        "learn": [
                          0.1547992954
                        ],
                        "iteration": 79,
                        "passed_time": 4.405110838,
                        "remaining_time": 6.607666258
                      },
                      {
                        "learn": [
                          0.1544057898
                        ],
                        "iteration": 80,
                        "passed_time": 4.454687957,
                        "remaining_time": 6.544541567
                      },
                      {
                        "learn": [
                          0.1541073249
                        ],
                        "iteration": 81,
                        "passed_time": 4.513962263,
                        "remaining_time": 6.495701793
                      },
                      {
                        "learn": [
                          0.1538918067
                        ],
                        "iteration": 82,
                        "passed_time": 4.550832606,
                        "remaining_time": 6.415029096
                      },
                      {
                        "learn": [
                          0.1536770344
                        ],
                        "iteration": 83,
                        "passed_time": 4.586458136,
                        "remaining_time": 6.333680283
                      },
                      {
                        "learn": [
                          0.1533304685
                        ],
                        "iteration": 84,
                        "passed_time": 4.615451802,
                        "remaining_time": 6.244434791
                      },
                      {
                        "learn": [
                          0.1531475016
                        ],
                        "iteration": 85,
                        "passed_time": 4.650101051,
                        "remaining_time": 6.16408744
                      },
                      {
                        "learn": [
                          0.152871344
                        ],
                        "iteration": 86,
                        "passed_time": 4.69141263,
                        "remaining_time": 6.09344399
                      },
                      {
                        "learn": [
                          0.1526392884
                        ],
                        "iteration": 87,
                        "passed_time": 4.759820574,
                        "remaining_time": 6.057953457
                      },
                      {
                        "learn": [
                          0.1524519558
                        ],
                        "iteration": 88,
                        "passed_time": 4.829231869,
                        "remaining_time": 6.022974578
                      },
                      {
                        "learn": [
                          0.1520583379
                        ],
                        "iteration": 89,
                        "passed_time": 4.901135368,
                        "remaining_time": 5.99027656
                      },
                      {
                        "learn": [
                          0.1518639819
                        ],
                        "iteration": 90,
                        "passed_time": 4.9391199,
                        "remaining_time": 5.916088671
                      },
                      {
                        "learn": [
                          0.151673265
                        ],
                        "iteration": 91,
                        "passed_time": 5.013002771,
                        "remaining_time": 5.88482934
                      },
                      {
                        "learn": [
                          0.1514374429
                        ],
                        "iteration": 92,
                        "passed_time": 5.075578883,
                        "remaining_time": 5.839644521
                      },
                      {
                        "learn": [
                          0.1511616673
                        ],
                        "iteration": 93,
                        "passed_time": 5.152946419,
                        "remaining_time": 5.810769366
                      },
                      {
                        "learn": [
                          0.1509566867
                        ],
                        "iteration": 94,
                        "passed_time": 5.190766839,
                        "remaining_time": 5.737163348
                      },
                      {
                        "learn": [
                          0.1505943673
                        ],
                        "iteration": 95,
                        "passed_time": 5.226706251,
                        "remaining_time": 5.662265105
                      },
                      {
                        "learn": [
                          0.1503388579
                        ],
                        "iteration": 96,
                        "passed_time": 5.279141095,
                        "remaining_time": 5.605685905
                      },
                      {
                        "learn": [
                          0.1501560267
                        ],
                        "iteration": 97,
                        "passed_time": 5.362466116,
                        "remaining_time": 5.581342284
                      },
                      {
                        "learn": [
                          0.1499066866
                        ],
                        "iteration": 98,
                        "passed_time": 5.415136544,
                        "remaining_time": 5.524533242
                      },
                      {
                        "learn": [
                          0.1495677965
                        ],
                        "iteration": 99,
                        "passed_time": 5.466989445,
                        "remaining_time": 5.466989445
                      },
                      {
                        "learn": [
                          0.1493398413
                        ],
                        "iteration": 100,
                        "passed_time": 5.52572256,
                        "remaining_time": 5.416302311
                      },
                      {
                        "learn": [
                          0.1491433189
                        ],
                        "iteration": 101,
                        "passed_time": 5.590346676,
                        "remaining_time": 5.371117395
                      },
                      {
                        "learn": [
                          0.1489407327
                        ],
                        "iteration": 102,
                        "passed_time": 5.630787683,
                        "remaining_time": 5.302780634
                      },
                      {
                        "learn": [
                          0.1487385581
                        ],
                        "iteration": 103,
                        "passed_time": 5.727007828,
                        "remaining_time": 5.286468765
                      },
                      {
                        "learn": [
                          0.1485843522
                        ],
                        "iteration": 104,
                        "passed_time": 5.783740466,
                        "remaining_time": 5.232908041
                      },
                      {
                        "learn": [
                          0.1482944904
                        ],
                        "iteration": 105,
                        "passed_time": 5.836460168,
                        "remaining_time": 5.175728828
                      },
                      {
                        "learn": [
                          0.1480678341
                        ],
                        "iteration": 106,
                        "passed_time": 5.879835089,
                        "remaining_time": 5.110510872
                      },
                      {
                        "learn": [
                          0.1478920287
                        ],
                        "iteration": 107,
                        "passed_time": 5.957309444,
                        "remaining_time": 5.074745082
                      },
                      {
                        "learn": [
                          0.1476728327
                        ],
                        "iteration": 108,
                        "passed_time": 6.026898867,
                        "remaining_time": 5.031631164
                      },
                      {
                        "learn": [
                          0.1474224651
                        ],
                        "iteration": 109,
                        "passed_time": 6.089317359,
                        "remaining_time": 4.982168748
                      },
                      {
                        "learn": [
                          0.1472582608
                        ],
                        "iteration": 110,
                        "passed_time": 6.132781756,
                        "remaining_time": 4.917275462
                      },
                      {
                        "learn": [
                          0.1471074433
                        ],
                        "iteration": 111,
                        "passed_time": 6.170523675,
                        "remaining_time": 4.848268602
                      },
                      {
                        "learn": [
                          0.146889918
                        ],
                        "iteration": 112,
                        "passed_time": 6.215022464,
                        "remaining_time": 4.785017295
                      },
                      {
                        "learn": [
                          0.1466309792
                        ],
                        "iteration": 113,
                        "passed_time": 6.280325608,
                        "remaining_time": 4.737789493
                      },
                      {
                        "learn": [
                          0.1464804279
                        ],
                        "iteration": 114,
                        "passed_time": 6.335785455,
                        "remaining_time": 4.682971858
                      },
                      {
                        "learn": [
                          0.1462310936
                        ],
                        "iteration": 115,
                        "passed_time": 6.398889074,
                        "remaining_time": 4.633678295
                      },
                      {
                        "learn": [
                          0.1459869761
                        ],
                        "iteration": 116,
                        "passed_time": 6.463530714,
                        "remaining_time": 4.585239737
                      },
                      {
                        "learn": [
                          0.1458440708
                        ],
                        "iteration": 117,
                        "passed_time": 6.536767504,
                        "remaining_time": 4.542499452
                      },
                      {
                        "learn": [
                          0.1457143302
                        ],
                        "iteration": 118,
                        "passed_time": 6.619734079,
                        "remaining_time": 4.505869415
                      },
                      {
                        "learn": [
                          0.145549975
                        ],
                        "iteration": 119,
                        "passed_time": 6.686604046,
                        "remaining_time": 4.45773603
                      },
                      {
                        "learn": [
                          0.1452735953
                        ],
                        "iteration": 120,
                        "passed_time": 6.761412745,
                        "remaining_time": 4.41447609
                      },
                      {
                        "learn": [
                          0.1450479949
                        ],
                        "iteration": 121,
                        "passed_time": 6.811731472,
                        "remaining_time": 4.355041433
                      },
                      {
                        "learn": [
                          0.1448992702
                        ],
                        "iteration": 122,
                        "passed_time": 6.880379955,
                        "remaining_time": 4.307229728
                      },
                      {
                        "learn": [
                          0.144695727
                        ],
                        "iteration": 123,
                        "passed_time": 6.947031121,
                        "remaining_time": 4.257857784
                      },
                      {
                        "learn": [
                          0.144422489
                        ],
                        "iteration": 124,
                        "passed_time": 7.025719903,
                        "remaining_time": 4.215431942
                      },
                      {
                        "learn": [
                          0.1441481964
                        ],
                        "iteration": 125,
                        "passed_time": 7.083333525,
                        "remaining_time": 4.160053023
                      },
                      {
                        "learn": [
                          0.1439021436
                        ],
                        "iteration": 126,
                        "passed_time": 7.164109799,
                        "remaining_time": 4.117952876
                      },
                      {
                        "learn": [
                          0.1437242544
                        ],
                        "iteration": 127,
                        "passed_time": 7.25458689,
                        "remaining_time": 4.080705126
                      },
                      {
                        "learn": [
                          0.1436015194
                        ],
                        "iteration": 128,
                        "passed_time": 7.345149496,
                        "remaining_time": 4.04267918
                      },
                      {
                        "learn": [
                          0.1433634338
                        ],
                        "iteration": 129,
                        "passed_time": 7.393232723,
                        "remaining_time": 3.980971466
                      },
                      {
                        "learn": [
                          0.1432030971
                        ],
                        "iteration": 130,
                        "passed_time": 7.460675165,
                        "remaining_time": 3.929668598
                      },
                      {
                        "learn": [
                          0.1430914202
                        ],
                        "iteration": 131,
                        "passed_time": 7.521440567,
                        "remaining_time": 3.874681504
                      },
                      {
                        "learn": [
                          0.1429061479
                        ],
                        "iteration": 132,
                        "passed_time": 7.566314545,
                        "remaining_time": 3.811602064
                      },
                      {
                        "learn": [
                          0.1427833189
                        ],
                        "iteration": 133,
                        "passed_time": 7.6221572,
                        "remaining_time": 3.75419683
                      },
                      {
                        "learn": [
                          0.1426402437
                        ],
                        "iteration": 134,
                        "passed_time": 7.71374864,
                        "remaining_time": 3.714027123
                      },
                      {
                        "learn": [
                          0.1424316527
                        ],
                        "iteration": 135,
                        "passed_time": 7.777180024,
                        "remaining_time": 3.659849423
                      },
                      {
                        "learn": [
                          0.1422509792
                        ],
                        "iteration": 136,
                        "passed_time": 7.826844681,
                        "remaining_time": 3.599205948
                      },
                      {
                        "learn": [
                          0.142122171
                        ],
                        "iteration": 137,
                        "passed_time": 7.881946851,
                        "remaining_time": 3.541164527
                      },
                      {
                        "learn": [
                          0.1420077241
                        ],
                        "iteration": 138,
                        "passed_time": 7.919186712,
                        "remaining_time": 3.475326543
                      },
                      {
                        "learn": [
                          0.1418754886
                        ],
                        "iteration": 139,
                        "passed_time": 7.968021495,
                        "remaining_time": 3.414866355
                      },
                      {
                        "learn": [
                          0.1416432538
                        ],
                        "iteration": 140,
                        "passed_time": 8.006198198,
                        "remaining_time": 3.350111303
                      },
                      {
                        "learn": [
                          0.141459035
                        ],
                        "iteration": 141,
                        "passed_time": 8.060918296,
                        "remaining_time": 3.292487755
                      },
                      {
                        "learn": [
                          0.1410725879
                        ],
                        "iteration": 142,
                        "passed_time": 8.118579352,
                        "remaining_time": 3.236077084
                      },
                      {
                        "learn": [
                          0.1409684774
                        ],
                        "iteration": 143,
                        "passed_time": 8.166200541,
                        "remaining_time": 3.175744655
                      },
                      {
                        "learn": [
                          0.1405978603
                        ],
                        "iteration": 144,
                        "passed_time": 8.223102682,
                        "remaining_time": 3.119107914
                      },
                      {
                        "learn": [
                          0.1404518337
                        ],
                        "iteration": 145,
                        "passed_time": 8.293545932,
                        "remaining_time": 3.067475893
                      },
                      {
                        "learn": [
                          0.1403164985
                        ],
                        "iteration": 146,
                        "passed_time": 8.376076288,
                        "remaining_time": 3.019945872
                      },
                      {
                        "learn": [
                          0.1401714831
                        ],
                        "iteration": 147,
                        "passed_time": 8.466819194,
                        "remaining_time": 2.974828365
                      },
                      {
                        "learn": [
                          0.1400697668
                        ],
                        "iteration": 148,
                        "passed_time": 8.517648857,
                        "remaining_time": 2.915436857
                      },
                      {
                        "learn": [
                          0.1399237568
                        ],
                        "iteration": 149,
                        "passed_time": 8.566529108,
                        "remaining_time": 2.855509703
                      },
                      {
                        "learn": [
                          0.1398234123
                        ],
                        "iteration": 150,
                        "passed_time": 8.627290069,
                        "remaining_time": 2.799584195
                      },
                      {
                        "learn": [
                          0.139574892
                        ],
                        "iteration": 151,
                        "passed_time": 8.69235953,
                        "remaining_time": 2.744955641
                      },
                      {
                        "learn": [
                          0.1393849588
                        ],
                        "iteration": 152,
                        "passed_time": 8.731327305,
                        "remaining_time": 2.68217244
                      },
                      {
                        "learn": [
                          0.1390984734
                        ],
                        "iteration": 153,
                        "passed_time": 8.767000042,
                        "remaining_time": 2.618714298
                      },
                      {
                        "learn": [
                          0.1389997307
                        ],
                        "iteration": 154,
                        "passed_time": 8.808471167,
                        "remaining_time": 2.557298081
                      },
                      {
                        "learn": [
                          0.1387375083
                        ],
                        "iteration": 155,
                        "passed_time": 8.870684465,
                        "remaining_time": 2.501987926
                      },
                      {
                        "learn": [
                          0.1385750518
                        ],
                        "iteration": 156,
                        "passed_time": 8.933616919,
                        "remaining_time": 2.446786799
                      },
                      {
                        "learn": [
                          0.1384544524
                        ],
                        "iteration": 157,
                        "passed_time": 8.996309698,
                        "remaining_time": 2.391424097
                      },
                      {
                        "learn": [
                          0.1383275749
                        ],
                        "iteration": 158,
                        "passed_time": 9.03896443,
                        "remaining_time": 2.330802149
                      },
                      {
                        "learn": [
                          0.1381626205
                        ],
                        "iteration": 159,
                        "passed_time": 9.07869409,
                        "remaining_time": 2.269673522
                      },
                      {
                        "learn": [
                          0.1380772964
                        ],
                        "iteration": 160,
                        "passed_time": 9.120610169,
                        "remaining_time": 2.209340352
                      },
                      {
                        "learn": [
                          0.137768993
                        ],
                        "iteration": 161,
                        "passed_time": 9.189870045,
                        "remaining_time": 2.155648529
                      },
                      {
                        "learn": [
                          0.1375869264
                        ],
                        "iteration": 162,
                        "passed_time": 9.24625494,
                        "remaining_time": 2.098843146
                      },
                      {
                        "learn": [
                          0.1374777817
                        ],
                        "iteration": 163,
                        "passed_time": 9.29265508,
                        "remaining_time": 2.039851115
                      },
                      {
                        "learn": [
                          0.1373597168
                        ],
                        "iteration": 164,
                        "passed_time": 9.376354596,
                        "remaining_time": 1.988923702
                      },
                      {
                        "learn": [
                          0.137090761
                        ],
                        "iteration": 165,
                        "passed_time": 9.43916506,
                        "remaining_time": 1.933322964
                      },
                      {
                        "learn": [
                          0.1368496665
                        ],
                        "iteration": 166,
                        "passed_time": 9.492730951,
                        "remaining_time": 1.87580911
                      },
                      {
                        "learn": [
                          0.1367330502
                        ],
                        "iteration": 167,
                        "passed_time": 9.57901863,
                        "remaining_time": 1.824574977
                      },
                      {
                        "learn": [
                          0.1365369131
                        ],
                        "iteration": 168,
                        "passed_time": 9.655863274,
                        "remaining_time": 1.771193855
                      },
                      {
                        "learn": [
                          0.1364036099
                        ],
                        "iteration": 169,
                        "passed_time": 9.717498674,
                        "remaining_time": 1.714852707
                      },
                      {
                        "learn": [
                          0.136301278
                        ],
                        "iteration": 170,
                        "passed_time": 9.773846337,
                        "remaining_time": 1.657552888
                      },
                      {
                        "learn": [
                          0.1361332971
                        ],
                        "iteration": 171,
                        "passed_time": 9.845352392,
                        "remaining_time": 1.602731785
                      },
                      {
                        "learn": [
                          0.1359575516
                        ],
                        "iteration": 172,
                        "passed_time": 9.947418288,
                        "remaining_time": 1.552487247
                      },
                      {
                        "learn": [
                          0.1357589881
                        ],
                        "iteration": 173,
                        "passed_time": 10.02838727,
                        "remaining_time": 1.498494649
                      },
                      {
                        "learn": [
                          0.135502018
                        ],
                        "iteration": 174,
                        "passed_time": 10.08804041,
                        "remaining_time": 1.441148629
                      },
                      {
                        "learn": [
                          0.1353449028
                        ],
                        "iteration": 175,
                        "passed_time": 10.15116811,
                        "remaining_time": 1.384250196
                      },
                      {
                        "learn": [
                          0.13513273
                        ],
                        "iteration": 176,
                        "passed_time": 10.20000313,
                        "remaining_time": 1.325424136
                      },
                      {
                        "learn": [
                          0.1348873966
                        ],
                        "iteration": 177,
                        "passed_time": 10.23764865,
                        "remaining_time": 1.265327361
                      },
                      {
                        "learn": [
                          0.1347338604
                        ],
                        "iteration": 178,
                        "passed_time": 10.28408315,
                        "remaining_time": 1.206512549
                      },
                      {
                        "learn": [
                          0.1345988966
                        ],
                        "iteration": 179,
                        "passed_time": 10.32338614,
                        "remaining_time": 1.147042904
                      },
                      {
                        "learn": [
                          0.134383139
                        ],
                        "iteration": 180,
                        "passed_time": 10.38014457,
                        "remaining_time": 1.089628436
                      },
                      {
                        "learn": [
                          0.1342451984
                        ],
                        "iteration": 181,
                        "passed_time": 10.44234696,
                        "remaining_time": 1.032759589
                      },
                      {
                        "learn": [
                          0.134077209
                        ],
                        "iteration": 182,
                        "passed_time": 10.46962635,
                        "remaining_time": 0.97258824
                      },
                      {
                        "learn": [
                          0.1338715413
                        ],
                        "iteration": 183,
                        "passed_time": 10.50587871,
                        "remaining_time": 0.9135546705
                      },
                      {
                        "learn": [
                          0.1337704761
                        ],
                        "iteration": 184,
                        "passed_time": 10.53772932,
                        "remaining_time": 0.8544104855
                      },
                      {
                        "learn": [
                          0.1335402292
                        ],
                        "iteration": 185,
                        "passed_time": 10.5928858,
                        "remaining_time": 0.7973139851
                      },
                      {
                        "learn": [
                          0.1333934766
                        ],
                        "iteration": 186,
                        "passed_time": 10.63626293,
                        "remaining_time": 0.7394193479
                      },
                      {
                        "learn": [
                          0.1332177755
                        ],
                        "iteration": 187,
                        "passed_time": 10.69712335,
                        "remaining_time": 0.6827951077
                      },
                      {
                        "learn": [
                          0.1331243686
                        ],
                        "iteration": 188,
                        "passed_time": 10.77153113,
                        "remaining_time": 0.62691451
                      },
                      {
                        "learn": [
                          0.1329020177
                        ],
                        "iteration": 189,
                        "passed_time": 10.83299875,
                        "remaining_time": 0.5701578288
                      },
                      {
                        "learn": [
                          0.1327203258
                        ],
                        "iteration": 190,
                        "passed_time": 10.89452229,
                        "remaining_time": 0.5133544534
                      },
                      {
                        "learn": [
                          0.1326092672
                        ],
                        "iteration": 191,
                        "passed_time": 10.95912155,
                        "remaining_time": 0.4566300646
                      },
                      {
                        "learn": [
                          0.1324687323
                        ],
                        "iteration": 192,
                        "passed_time": 11.04702924,
                        "remaining_time": 0.4006694544
                      },
                      {
                        "learn": [
                          0.1323502763
                        ],
                        "iteration": 193,
                        "passed_time": 11.13038668,
                        "remaining_time": 0.3442387632
                      },
                      {
                        "learn": [
                          0.1322204717
                        ],
                        "iteration": 194,
                        "passed_time": 11.19727804,
                        "remaining_time": 0.2871096932
                      },
                      {
                        "learn": [
                          0.1320302609
                        ],
                        "iteration": 195,
                        "passed_time": 11.28263183,
                        "remaining_time": 0.2302577925
                      },
                      {
                        "learn": [
                          0.1318802576
                        ],
                        "iteration": 196,
                        "passed_time": 11.34788415,
                        "remaining_time": 0.1728104185
                      },
                      {
                        "learn": [
                          0.1317643504
                        ],
                        "iteration": 197,
                        "passed_time": 11.42688408,
                        "remaining_time": 0.1154230715
                      },
                      {
                        "learn": [
                          0.1316363801
                        ],
                        "iteration": 198,
                        "passed_time": 11.51553249,
                        "remaining_time": 0.05786699742
                      },
                      {
                        "learn": [
                          0.1315021167
                        ],
                        "iteration": 199,
                        "passed_time": 11.59189776,
                        "remaining_time": 0
                      }
                    ],
                    "meta": {
                      "test_sets": [],
                      "test_metrics": [],
                      "learn_metrics": [
                        {
                          "best_value": "Min",
                          "name": "Logloss"
                        }
                      ],
                      "launch_mode": "Train",
                      "parameters": "",
                      "iteration_count": 200,
                      "learn_sets": [
                        "learn"
                      ],
                      "name": "experiment"
                    }
                  }
                }
              }
            },
            "layout": "IPY_MODEL_8fc9977efcbd4156b66e769dfb38cf0f"
          }
        }
      }
    }
  },
  "cells": [
    {
      "cell_type": "code",
      "source": [
        "import pandas as pd\n",
        "import numpy as np\n",
        "import matplotlib.pyplot as plt\n",
        "import seaborn as sns"
      ],
      "metadata": {
        "id": "X6yRKv8G0P8l"
      },
      "execution_count": 2,
      "outputs": []
    },
    {
      "cell_type": "code",
      "source": [
        "pd.options.display.max_rows = 10"
      ],
      "metadata": {
        "id": "-qtFnJZDYSmG"
      },
      "execution_count": 3,
      "outputs": []
    },
    {
      "cell_type": "code",
      "source": [
        "from sqlalchemy import create_engine"
      ],
      "metadata": {
        "id": "sBgzrnS5YSo1"
      },
      "execution_count": 4,
      "outputs": []
    },
    {
      "cell_type": "code",
      "source": [
        "engine = create_engine('sqlite:///:memory:', echo=True)\n",
        "connection = engine.connect()"
      ],
      "metadata": {
        "id": "av6n-XZBYSsH"
      },
      "execution_count": 11,
      "outputs": []
    },
    {
      "cell_type": "code",
      "source": [
        "with open('./neo.csv', 'r') as file:\n",
        "    data_df = pd.read_csv(file)\n",
        "data_df.to_sql('df', con=engine, index=False)"
      ],
      "metadata": {
        "colab": {
          "base_uri": "https://localhost:8080/"
        },
        "id": "U2xocJ99YSvZ",
        "outputId": "a50ed634-6636-4704-9aa3-14d32ff5acc0"
      },
      "execution_count": 13,
      "outputs": [
        {
          "output_type": "stream",
          "name": "stdout",
          "text": [
            "2022-08-02 21:14:09,920 INFO sqlalchemy.engine.Engine PRAGMA main.table_info(\"df\")\n"
          ]
        },
        {
          "output_type": "stream",
          "name": "stderr",
          "text": [
            "INFO:sqlalchemy.engine.Engine:PRAGMA main.table_info(\"df\")\n"
          ]
        },
        {
          "output_type": "stream",
          "name": "stdout",
          "text": [
            "2022-08-02 21:14:09,925 INFO sqlalchemy.engine.Engine [raw sql] ()\n"
          ]
        },
        {
          "output_type": "stream",
          "name": "stderr",
          "text": [
            "INFO:sqlalchemy.engine.Engine:[raw sql] ()\n"
          ]
        },
        {
          "output_type": "stream",
          "name": "stdout",
          "text": [
            "2022-08-02 21:14:09,931 INFO sqlalchemy.engine.Engine PRAGMA temp.table_info(\"df\")\n"
          ]
        },
        {
          "output_type": "stream",
          "name": "stderr",
          "text": [
            "INFO:sqlalchemy.engine.Engine:PRAGMA temp.table_info(\"df\")\n"
          ]
        },
        {
          "output_type": "stream",
          "name": "stdout",
          "text": [
            "2022-08-02 21:14:09,936 INFO sqlalchemy.engine.Engine [raw sql] ()\n"
          ]
        },
        {
          "output_type": "stream",
          "name": "stderr",
          "text": [
            "INFO:sqlalchemy.engine.Engine:[raw sql] ()\n"
          ]
        },
        {
          "output_type": "stream",
          "name": "stdout",
          "text": [
            "2022-08-02 21:14:09,943 INFO sqlalchemy.engine.Engine BEGIN (implicit)\n"
          ]
        },
        {
          "output_type": "stream",
          "name": "stderr",
          "text": [
            "INFO:sqlalchemy.engine.Engine:BEGIN (implicit)\n"
          ]
        },
        {
          "output_type": "stream",
          "name": "stdout",
          "text": [
            "2022-08-02 21:14:09,948 INFO sqlalchemy.engine.Engine \n",
            "CREATE TABLE df (\n",
            "\tid BIGINT, \n",
            "\tname TEXT, \n",
            "\test_diameter_min FLOAT, \n",
            "\test_diameter_max FLOAT, \n",
            "\trelative_velocity FLOAT, \n",
            "\tmiss_distance FLOAT, \n",
            "\torbiting_body TEXT, \n",
            "\tsentry_object BOOLEAN, \n",
            "\tabsolute_magnitude FLOAT, \n",
            "\thazardous BOOLEAN\n",
            ")\n",
            "\n",
            "\n"
          ]
        },
        {
          "output_type": "stream",
          "name": "stderr",
          "text": [
            "INFO:sqlalchemy.engine.Engine:\n",
            "CREATE TABLE df (\n",
            "\tid BIGINT, \n",
            "\tname TEXT, \n",
            "\test_diameter_min FLOAT, \n",
            "\test_diameter_max FLOAT, \n",
            "\trelative_velocity FLOAT, \n",
            "\tmiss_distance FLOAT, \n",
            "\torbiting_body TEXT, \n",
            "\tsentry_object BOOLEAN, \n",
            "\tabsolute_magnitude FLOAT, \n",
            "\thazardous BOOLEAN\n",
            ")\n",
            "\n",
            "\n"
          ]
        },
        {
          "output_type": "stream",
          "name": "stdout",
          "text": [
            "2022-08-02 21:14:09,951 INFO sqlalchemy.engine.Engine [no key 0.00329s] ()\n"
          ]
        },
        {
          "output_type": "stream",
          "name": "stderr",
          "text": [
            "INFO:sqlalchemy.engine.Engine:[no key 0.00329s] ()\n"
          ]
        },
        {
          "output_type": "stream",
          "name": "stdout",
          "text": [
            "2022-08-02 21:14:09,956 INFO sqlalchemy.engine.Engine COMMIT\n"
          ]
        },
        {
          "output_type": "stream",
          "name": "stderr",
          "text": [
            "INFO:sqlalchemy.engine.Engine:COMMIT\n"
          ]
        },
        {
          "output_type": "stream",
          "name": "stdout",
          "text": [
            "2022-08-02 21:14:10,015 INFO sqlalchemy.engine.Engine BEGIN (implicit)\n"
          ]
        },
        {
          "output_type": "stream",
          "name": "stderr",
          "text": [
            "INFO:sqlalchemy.engine.Engine:BEGIN (implicit)\n"
          ]
        },
        {
          "output_type": "stream",
          "name": "stdout",
          "text": [
            "2022-08-02 21:14:11,528 INFO sqlalchemy.engine.Engine INSERT INTO df (id, name, est_diameter_min, est_diameter_max, relative_velocity, miss_distance, orbiting_body, sentry_object, absolute_magnitude, hazardous) VALUES (?, ?, ?, ?, ?, ?, ?, ?, ?, ?)\n"
          ]
        },
        {
          "output_type": "stream",
          "name": "stderr",
          "text": [
            "INFO:sqlalchemy.engine.Engine:INSERT INTO df (id, name, est_diameter_min, est_diameter_max, relative_velocity, miss_distance, orbiting_body, sentry_object, absolute_magnitude, hazardous) VALUES (?, ?, ?, ?, ?, ?, ?, ?, ?, ?)\n"
          ]
        },
        {
          "output_type": "stream",
          "name": "stdout",
          "text": [
            "2022-08-02 21:14:11,531 INFO sqlalchemy.engine.Engine [generated in 1.40377s] ((2162635, '162635 (2000 SS164)', 1.1982708007, 2.6794149658, 13569.2492241812, 54839744.08284605, 'Earth', 0, 16.73, 0), (2277475, '277475 (2005 WK4)', 0.2658, 0.5943468684, 73588.7266634981, 61438126.52395093, 'Earth', 0, 20.0, 1), (2512244, '512244 (2015 YE18)', 0.7220295577, 1.6145071727, 114258.6921290512, 49798724.94045679, 'Earth', 0, 17.83, 0), (3596030, '(2012 BV13)', 0.096506147, 0.2157943048, 24764.3031380016, 25434972.72075825, 'Earth', 0, 22.2, 0), (3667127, '(2014 GE35)', 0.2550086879, 0.5702167609, 42737.7337647264, 46275567.00130072, 'Earth', 0, 20.09, 1), (54138696, '(2021 GY23)', 0.0363542322, 0.0812905344, 34297.5877783029, 40585691.22792288, 'Earth', 0, 24.32, 0), (54189957, '(2021 PY40)', 0.1716148941, 0.3837425691, 27529.4723069673, 29069121.41864897, 'Earth', 0, 20.95, 0), (54230078, '(2021 XD6)', 0.0053278866, 0.0119135167, 57544.4700827352, 55115019.25807114, 'Earth', 0, 28.49, 0)  ... displaying 10 of 90836 total bound parameter sets ...  (54115824, '(2021 CN5)', 0.0073207399, 0.016369672, 69199.1544835094, 68692060.5345607, 'Earth', 0, 27.8, 0), (54205447, '(2021 TW7)', 0.0398616229, 0.0891332986, 27024.4555527296, 59772130.59268528, 'Earth', 0, 24.12, 0))\n"
          ]
        },
        {
          "output_type": "stream",
          "name": "stderr",
          "text": [
            "INFO:sqlalchemy.engine.Engine:[generated in 1.40377s] ((2162635, '162635 (2000 SS164)', 1.1982708007, 2.6794149658, 13569.2492241812, 54839744.08284605, 'Earth', 0, 16.73, 0), (2277475, '277475 (2005 WK4)', 0.2658, 0.5943468684, 73588.7266634981, 61438126.52395093, 'Earth', 0, 20.0, 1), (2512244, '512244 (2015 YE18)', 0.7220295577, 1.6145071727, 114258.6921290512, 49798724.94045679, 'Earth', 0, 17.83, 0), (3596030, '(2012 BV13)', 0.096506147, 0.2157943048, 24764.3031380016, 25434972.72075825, 'Earth', 0, 22.2, 0), (3667127, '(2014 GE35)', 0.2550086879, 0.5702167609, 42737.7337647264, 46275567.00130072, 'Earth', 0, 20.09, 1), (54138696, '(2021 GY23)', 0.0363542322, 0.0812905344, 34297.5877783029, 40585691.22792288, 'Earth', 0, 24.32, 0), (54189957, '(2021 PY40)', 0.1716148941, 0.3837425691, 27529.4723069673, 29069121.41864897, 'Earth', 0, 20.95, 0), (54230078, '(2021 XD6)', 0.0053278866, 0.0119135167, 57544.4700827352, 55115019.25807114, 'Earth', 0, 28.49, 0)  ... displaying 10 of 90836 total bound parameter sets ...  (54115824, '(2021 CN5)', 0.0073207399, 0.016369672, 69199.1544835094, 68692060.5345607, 'Earth', 0, 27.8, 0), (54205447, '(2021 TW7)', 0.0398616229, 0.0891332986, 27024.4555527296, 59772130.59268528, 'Earth', 0, 24.12, 0))\n"
          ]
        },
        {
          "output_type": "stream",
          "name": "stdout",
          "text": [
            "2022-08-02 21:14:11,748 INFO sqlalchemy.engine.Engine COMMIT\n"
          ]
        },
        {
          "output_type": "stream",
          "name": "stderr",
          "text": [
            "INFO:sqlalchemy.engine.Engine:COMMIT\n"
          ]
        }
      ]
    },
    {
      "cell_type": "code",
      "source": [
        "df = pd.read_sql('''\n",
        "select * from df\n",
        "''', connection)"
      ],
      "metadata": {
        "colab": {
          "base_uri": "https://localhost:8080/"
        },
        "id": "pF0iLgR_YSyl",
        "outputId": "640e96a2-4052-4c6d-d1b3-9b9f8649be8b"
      },
      "execution_count": 14,
      "outputs": [
        {
          "output_type": "stream",
          "name": "stdout",
          "text": [
            "2022-08-02 21:14:14,270 INFO sqlalchemy.engine.Engine PRAGMA main.table_info(\"\n",
            "select * from df\n",
            "\")\n"
          ]
        },
        {
          "output_type": "stream",
          "name": "stderr",
          "text": [
            "INFO:sqlalchemy.engine.Engine:PRAGMA main.table_info(\"\n",
            "select * from df\n",
            "\")\n"
          ]
        },
        {
          "output_type": "stream",
          "name": "stdout",
          "text": [
            "2022-08-02 21:14:14,274 INFO sqlalchemy.engine.Engine [raw sql] ()\n"
          ]
        },
        {
          "output_type": "stream",
          "name": "stderr",
          "text": [
            "INFO:sqlalchemy.engine.Engine:[raw sql] ()\n"
          ]
        },
        {
          "output_type": "stream",
          "name": "stdout",
          "text": [
            "2022-08-02 21:14:14,278 INFO sqlalchemy.engine.Engine PRAGMA temp.table_info(\"\n",
            "select * from df\n",
            "\")\n"
          ]
        },
        {
          "output_type": "stream",
          "name": "stderr",
          "text": [
            "INFO:sqlalchemy.engine.Engine:PRAGMA temp.table_info(\"\n",
            "select * from df\n",
            "\")\n"
          ]
        },
        {
          "output_type": "stream",
          "name": "stdout",
          "text": [
            "2022-08-02 21:14:14,282 INFO sqlalchemy.engine.Engine [raw sql] ()\n"
          ]
        },
        {
          "output_type": "stream",
          "name": "stderr",
          "text": [
            "INFO:sqlalchemy.engine.Engine:[raw sql] ()\n"
          ]
        },
        {
          "output_type": "stream",
          "name": "stdout",
          "text": [
            "2022-08-02 21:14:14,288 INFO sqlalchemy.engine.Engine \n",
            "select * from df\n",
            "\n"
          ]
        },
        {
          "output_type": "stream",
          "name": "stderr",
          "text": [
            "INFO:sqlalchemy.engine.Engine:\n",
            "select * from df\n",
            "\n"
          ]
        },
        {
          "output_type": "stream",
          "name": "stdout",
          "text": [
            "2022-08-02 21:14:14,290 INFO sqlalchemy.engine.Engine [raw sql] ()\n"
          ]
        },
        {
          "output_type": "stream",
          "name": "stderr",
          "text": [
            "INFO:sqlalchemy.engine.Engine:[raw sql] ()\n"
          ]
        }
      ]
    },
    {
      "cell_type": "code",
      "source": [
        "# id : identifier (the same object can have several rows in the dataset, as it has been observed multiple times)\n",
        "# name : name given by NASA (including the year the asteroid was discovered)\n",
        "# est_diameter_min : minimum estimated diameter in kilometers\n",
        "# est_diameter_max : maximum estimated diameter in kilometers\n",
        "# relative_velocity : velocity relative to earth\n",
        "# miss_distance : distance in kilometers it misses Earth\n",
        "# orbiting_body : planet that the asteroid orbits\n",
        "# sentry_object : whether it is included in sentry - an automated collision monitoring system\n",
        "# absolute_magnitude : intrinsic luminosity\n",
        "# hazardous : whether the asteriod is potentially harmful or not"
      ],
      "metadata": {
        "id": "DIdUqXiPYS0h"
      },
      "execution_count": null,
      "outputs": []
    },
    {
      "cell_type": "code",
      "source": [
        "#Python"
      ],
      "metadata": {
        "id": "ZYd5kvlrYS3E"
      },
      "execution_count": null,
      "outputs": []
    },
    {
      "cell_type": "code",
      "source": [
        "df.shape"
      ],
      "metadata": {
        "colab": {
          "base_uri": "https://localhost:8080/"
        },
        "id": "_82RZ-DiZ13V",
        "outputId": "4f25ce41-eef8-48de-a73f-ab8505c78676"
      },
      "execution_count": 15,
      "outputs": [
        {
          "output_type": "execute_result",
          "data": {
            "text/plain": [
              "(90836, 10)"
            ]
          },
          "metadata": {},
          "execution_count": 15
        }
      ]
    },
    {
      "cell_type": "code",
      "source": [
        "df.head()"
      ],
      "metadata": {
        "colab": {
          "base_uri": "https://localhost:8080/",
          "height": 250
        },
        "id": "8reJHo0QZ15y",
        "outputId": "c8e8f56c-1794-472a-de82-0e32c7b1c4a5"
      },
      "execution_count": 16,
      "outputs": [
        {
          "output_type": "execute_result",
          "data": {
            "text/plain": [
              "        id                 name  est_diameter_min  est_diameter_max  \\\n",
              "0  2162635  162635 (2000 SS164)          1.198271          2.679415   \n",
              "1  2277475    277475 (2005 WK4)          0.265800          0.594347   \n",
              "2  2512244   512244 (2015 YE18)          0.722030          1.614507   \n",
              "3  3596030          (2012 BV13)          0.096506          0.215794   \n",
              "4  3667127          (2014 GE35)          0.255009          0.570217   \n",
              "\n",
              "   relative_velocity  miss_distance orbiting_body  sentry_object  \\\n",
              "0       13569.249224   5.483974e+07         Earth              0   \n",
              "1       73588.726663   6.143813e+07         Earth              0   \n",
              "2      114258.692129   4.979872e+07         Earth              0   \n",
              "3       24764.303138   2.543497e+07         Earth              0   \n",
              "4       42737.733765   4.627557e+07         Earth              0   \n",
              "\n",
              "   absolute_magnitude  hazardous  \n",
              "0               16.73          0  \n",
              "1               20.00          1  \n",
              "2               17.83          0  \n",
              "3               22.20          0  \n",
              "4               20.09          1  "
            ],
            "text/html": [
              "\n",
              "  <div id=\"df-516e753c-a28b-48e7-81cc-eb3f3fe8fdf2\">\n",
              "    <div class=\"colab-df-container\">\n",
              "      <div>\n",
              "<style scoped>\n",
              "    .dataframe tbody tr th:only-of-type {\n",
              "        vertical-align: middle;\n",
              "    }\n",
              "\n",
              "    .dataframe tbody tr th {\n",
              "        vertical-align: top;\n",
              "    }\n",
              "\n",
              "    .dataframe thead th {\n",
              "        text-align: right;\n",
              "    }\n",
              "</style>\n",
              "<table border=\"1\" class=\"dataframe\">\n",
              "  <thead>\n",
              "    <tr style=\"text-align: right;\">\n",
              "      <th></th>\n",
              "      <th>id</th>\n",
              "      <th>name</th>\n",
              "      <th>est_diameter_min</th>\n",
              "      <th>est_diameter_max</th>\n",
              "      <th>relative_velocity</th>\n",
              "      <th>miss_distance</th>\n",
              "      <th>orbiting_body</th>\n",
              "      <th>sentry_object</th>\n",
              "      <th>absolute_magnitude</th>\n",
              "      <th>hazardous</th>\n",
              "    </tr>\n",
              "  </thead>\n",
              "  <tbody>\n",
              "    <tr>\n",
              "      <th>0</th>\n",
              "      <td>2162635</td>\n",
              "      <td>162635 (2000 SS164)</td>\n",
              "      <td>1.198271</td>\n",
              "      <td>2.679415</td>\n",
              "      <td>13569.249224</td>\n",
              "      <td>5.483974e+07</td>\n",
              "      <td>Earth</td>\n",
              "      <td>0</td>\n",
              "      <td>16.73</td>\n",
              "      <td>0</td>\n",
              "    </tr>\n",
              "    <tr>\n",
              "      <th>1</th>\n",
              "      <td>2277475</td>\n",
              "      <td>277475 (2005 WK4)</td>\n",
              "      <td>0.265800</td>\n",
              "      <td>0.594347</td>\n",
              "      <td>73588.726663</td>\n",
              "      <td>6.143813e+07</td>\n",
              "      <td>Earth</td>\n",
              "      <td>0</td>\n",
              "      <td>20.00</td>\n",
              "      <td>1</td>\n",
              "    </tr>\n",
              "    <tr>\n",
              "      <th>2</th>\n",
              "      <td>2512244</td>\n",
              "      <td>512244 (2015 YE18)</td>\n",
              "      <td>0.722030</td>\n",
              "      <td>1.614507</td>\n",
              "      <td>114258.692129</td>\n",
              "      <td>4.979872e+07</td>\n",
              "      <td>Earth</td>\n",
              "      <td>0</td>\n",
              "      <td>17.83</td>\n",
              "      <td>0</td>\n",
              "    </tr>\n",
              "    <tr>\n",
              "      <th>3</th>\n",
              "      <td>3596030</td>\n",
              "      <td>(2012 BV13)</td>\n",
              "      <td>0.096506</td>\n",
              "      <td>0.215794</td>\n",
              "      <td>24764.303138</td>\n",
              "      <td>2.543497e+07</td>\n",
              "      <td>Earth</td>\n",
              "      <td>0</td>\n",
              "      <td>22.20</td>\n",
              "      <td>0</td>\n",
              "    </tr>\n",
              "    <tr>\n",
              "      <th>4</th>\n",
              "      <td>3667127</td>\n",
              "      <td>(2014 GE35)</td>\n",
              "      <td>0.255009</td>\n",
              "      <td>0.570217</td>\n",
              "      <td>42737.733765</td>\n",
              "      <td>4.627557e+07</td>\n",
              "      <td>Earth</td>\n",
              "      <td>0</td>\n",
              "      <td>20.09</td>\n",
              "      <td>1</td>\n",
              "    </tr>\n",
              "  </tbody>\n",
              "</table>\n",
              "</div>\n",
              "      <button class=\"colab-df-convert\" onclick=\"convertToInteractive('df-516e753c-a28b-48e7-81cc-eb3f3fe8fdf2')\"\n",
              "              title=\"Convert this dataframe to an interactive table.\"\n",
              "              style=\"display:none;\">\n",
              "        \n",
              "  <svg xmlns=\"http://www.w3.org/2000/svg\" height=\"24px\"viewBox=\"0 0 24 24\"\n",
              "       width=\"24px\">\n",
              "    <path d=\"M0 0h24v24H0V0z\" fill=\"none\"/>\n",
              "    <path d=\"M18.56 5.44l.94 2.06.94-2.06 2.06-.94-2.06-.94-.94-2.06-.94 2.06-2.06.94zm-11 1L8.5 8.5l.94-2.06 2.06-.94-2.06-.94L8.5 2.5l-.94 2.06-2.06.94zm10 10l.94 2.06.94-2.06 2.06-.94-2.06-.94-.94-2.06-.94 2.06-2.06.94z\"/><path d=\"M17.41 7.96l-1.37-1.37c-.4-.4-.92-.59-1.43-.59-.52 0-1.04.2-1.43.59L10.3 9.45l-7.72 7.72c-.78.78-.78 2.05 0 2.83L4 21.41c.39.39.9.59 1.41.59.51 0 1.02-.2 1.41-.59l7.78-7.78 2.81-2.81c.8-.78.8-2.07 0-2.86zM5.41 20L4 18.59l7.72-7.72 1.47 1.35L5.41 20z\"/>\n",
              "  </svg>\n",
              "      </button>\n",
              "      \n",
              "  <style>\n",
              "    .colab-df-container {\n",
              "      display:flex;\n",
              "      flex-wrap:wrap;\n",
              "      gap: 12px;\n",
              "    }\n",
              "\n",
              "    .colab-df-convert {\n",
              "      background-color: #E8F0FE;\n",
              "      border: none;\n",
              "      border-radius: 50%;\n",
              "      cursor: pointer;\n",
              "      display: none;\n",
              "      fill: #1967D2;\n",
              "      height: 32px;\n",
              "      padding: 0 0 0 0;\n",
              "      width: 32px;\n",
              "    }\n",
              "\n",
              "    .colab-df-convert:hover {\n",
              "      background-color: #E2EBFA;\n",
              "      box-shadow: 0px 1px 2px rgba(60, 64, 67, 0.3), 0px 1px 3px 1px rgba(60, 64, 67, 0.15);\n",
              "      fill: #174EA6;\n",
              "    }\n",
              "\n",
              "    [theme=dark] .colab-df-convert {\n",
              "      background-color: #3B4455;\n",
              "      fill: #D2E3FC;\n",
              "    }\n",
              "\n",
              "    [theme=dark] .colab-df-convert:hover {\n",
              "      background-color: #434B5C;\n",
              "      box-shadow: 0px 1px 3px 1px rgba(0, 0, 0, 0.15);\n",
              "      filter: drop-shadow(0px 1px 2px rgba(0, 0, 0, 0.3));\n",
              "      fill: #FFFFFF;\n",
              "    }\n",
              "  </style>\n",
              "\n",
              "      <script>\n",
              "        const buttonEl =\n",
              "          document.querySelector('#df-516e753c-a28b-48e7-81cc-eb3f3fe8fdf2 button.colab-df-convert');\n",
              "        buttonEl.style.display =\n",
              "          google.colab.kernel.accessAllowed ? 'block' : 'none';\n",
              "\n",
              "        async function convertToInteractive(key) {\n",
              "          const element = document.querySelector('#df-516e753c-a28b-48e7-81cc-eb3f3fe8fdf2');\n",
              "          const dataTable =\n",
              "            await google.colab.kernel.invokeFunction('convertToInteractive',\n",
              "                                                     [key], {});\n",
              "          if (!dataTable) return;\n",
              "\n",
              "          const docLinkHtml = 'Like what you see? Visit the ' +\n",
              "            '<a target=\"_blank\" href=https://colab.research.google.com/notebooks/data_table.ipynb>data table notebook</a>'\n",
              "            + ' to learn more about interactive tables.';\n",
              "          element.innerHTML = '';\n",
              "          dataTable['output_type'] = 'display_data';\n",
              "          await google.colab.output.renderOutput(dataTable, element);\n",
              "          const docLink = document.createElement('div');\n",
              "          docLink.innerHTML = docLinkHtml;\n",
              "          element.appendChild(docLink);\n",
              "        }\n",
              "      </script>\n",
              "    </div>\n",
              "  </div>\n",
              "  "
            ]
          },
          "metadata": {},
          "execution_count": 16
        }
      ]
    },
    {
      "cell_type": "code",
      "source": [
        "df.info()"
      ],
      "metadata": {
        "colab": {
          "base_uri": "https://localhost:8080/"
        },
        "id": "H4QJlUXIaOjD",
        "outputId": "2871a759-f3a9-4f46-ef7a-020b686415b1"
      },
      "execution_count": 17,
      "outputs": [
        {
          "output_type": "stream",
          "name": "stdout",
          "text": [
            "<class 'pandas.core.frame.DataFrame'>\n",
            "RangeIndex: 90836 entries, 0 to 90835\n",
            "Data columns (total 10 columns):\n",
            " #   Column              Non-Null Count  Dtype  \n",
            "---  ------              --------------  -----  \n",
            " 0   id                  90836 non-null  int64  \n",
            " 1   name                90836 non-null  object \n",
            " 2   est_diameter_min    90836 non-null  float64\n",
            " 3   est_diameter_max    90836 non-null  float64\n",
            " 4   relative_velocity   90836 non-null  float64\n",
            " 5   miss_distance       90836 non-null  float64\n",
            " 6   orbiting_body       90836 non-null  object \n",
            " 7   sentry_object       90836 non-null  int64  \n",
            " 8   absolute_magnitude  90836 non-null  float64\n",
            " 9   hazardous           90836 non-null  int64  \n",
            "dtypes: float64(5), int64(3), object(2)\n",
            "memory usage: 6.9+ MB\n"
          ]
        }
      ]
    },
    {
      "cell_type": "code",
      "source": [
        "df.describe()"
      ],
      "metadata": {
        "colab": {
          "base_uri": "https://localhost:8080/",
          "height": 300
        },
        "id": "maByw-HaaOl5",
        "outputId": "b40e43f4-0bd5-431e-c137-7d321112b1fb"
      },
      "execution_count": 18,
      "outputs": [
        {
          "output_type": "execute_result",
          "data": {
            "text/plain": [
              "                 id  est_diameter_min  est_diameter_max  relative_velocity  \\\n",
              "count  9.083600e+04      90836.000000      90836.000000       90836.000000   \n",
              "mean   1.438288e+07          0.127432          0.284947       48066.918918   \n",
              "std    2.087202e+07          0.298511          0.667491       25293.296961   \n",
              "min    2.000433e+06          0.000609          0.001362         203.346433   \n",
              "25%    3.448110e+06          0.019256          0.043057       28619.020645   \n",
              "50%    3.748362e+06          0.048368          0.108153       44190.117890   \n",
              "75%    3.884023e+06          0.143402          0.320656       62923.604633   \n",
              "max    5.427591e+07         37.892650         84.730541      236990.128088   \n",
              "\n",
              "       miss_distance  sentry_object  absolute_magnitude     hazardous  \n",
              "count   9.083600e+04        90836.0        90836.000000  90836.000000  \n",
              "mean    3.706655e+07            0.0           23.527103      0.097318  \n",
              "std     2.235204e+07            0.0            2.894086      0.296392  \n",
              "min     6.745533e+03            0.0            9.230000      0.000000  \n",
              "25%     1.721082e+07            0.0           21.340000      0.000000  \n",
              "50%     3.784658e+07            0.0           23.700000      0.000000  \n",
              "75%     5.654900e+07            0.0           25.700000      0.000000  \n",
              "max     7.479865e+07            0.0           33.200000      1.000000  "
            ],
            "text/html": [
              "\n",
              "  <div id=\"df-66f5da3e-cd37-4876-af90-2207b090c69f\">\n",
              "    <div class=\"colab-df-container\">\n",
              "      <div>\n",
              "<style scoped>\n",
              "    .dataframe tbody tr th:only-of-type {\n",
              "        vertical-align: middle;\n",
              "    }\n",
              "\n",
              "    .dataframe tbody tr th {\n",
              "        vertical-align: top;\n",
              "    }\n",
              "\n",
              "    .dataframe thead th {\n",
              "        text-align: right;\n",
              "    }\n",
              "</style>\n",
              "<table border=\"1\" class=\"dataframe\">\n",
              "  <thead>\n",
              "    <tr style=\"text-align: right;\">\n",
              "      <th></th>\n",
              "      <th>id</th>\n",
              "      <th>est_diameter_min</th>\n",
              "      <th>est_diameter_max</th>\n",
              "      <th>relative_velocity</th>\n",
              "      <th>miss_distance</th>\n",
              "      <th>sentry_object</th>\n",
              "      <th>absolute_magnitude</th>\n",
              "      <th>hazardous</th>\n",
              "    </tr>\n",
              "  </thead>\n",
              "  <tbody>\n",
              "    <tr>\n",
              "      <th>count</th>\n",
              "      <td>9.083600e+04</td>\n",
              "      <td>90836.000000</td>\n",
              "      <td>90836.000000</td>\n",
              "      <td>90836.000000</td>\n",
              "      <td>9.083600e+04</td>\n",
              "      <td>90836.0</td>\n",
              "      <td>90836.000000</td>\n",
              "      <td>90836.000000</td>\n",
              "    </tr>\n",
              "    <tr>\n",
              "      <th>mean</th>\n",
              "      <td>1.438288e+07</td>\n",
              "      <td>0.127432</td>\n",
              "      <td>0.284947</td>\n",
              "      <td>48066.918918</td>\n",
              "      <td>3.706655e+07</td>\n",
              "      <td>0.0</td>\n",
              "      <td>23.527103</td>\n",
              "      <td>0.097318</td>\n",
              "    </tr>\n",
              "    <tr>\n",
              "      <th>std</th>\n",
              "      <td>2.087202e+07</td>\n",
              "      <td>0.298511</td>\n",
              "      <td>0.667491</td>\n",
              "      <td>25293.296961</td>\n",
              "      <td>2.235204e+07</td>\n",
              "      <td>0.0</td>\n",
              "      <td>2.894086</td>\n",
              "      <td>0.296392</td>\n",
              "    </tr>\n",
              "    <tr>\n",
              "      <th>min</th>\n",
              "      <td>2.000433e+06</td>\n",
              "      <td>0.000609</td>\n",
              "      <td>0.001362</td>\n",
              "      <td>203.346433</td>\n",
              "      <td>6.745533e+03</td>\n",
              "      <td>0.0</td>\n",
              "      <td>9.230000</td>\n",
              "      <td>0.000000</td>\n",
              "    </tr>\n",
              "    <tr>\n",
              "      <th>25%</th>\n",
              "      <td>3.448110e+06</td>\n",
              "      <td>0.019256</td>\n",
              "      <td>0.043057</td>\n",
              "      <td>28619.020645</td>\n",
              "      <td>1.721082e+07</td>\n",
              "      <td>0.0</td>\n",
              "      <td>21.340000</td>\n",
              "      <td>0.000000</td>\n",
              "    </tr>\n",
              "    <tr>\n",
              "      <th>50%</th>\n",
              "      <td>3.748362e+06</td>\n",
              "      <td>0.048368</td>\n",
              "      <td>0.108153</td>\n",
              "      <td>44190.117890</td>\n",
              "      <td>3.784658e+07</td>\n",
              "      <td>0.0</td>\n",
              "      <td>23.700000</td>\n",
              "      <td>0.000000</td>\n",
              "    </tr>\n",
              "    <tr>\n",
              "      <th>75%</th>\n",
              "      <td>3.884023e+06</td>\n",
              "      <td>0.143402</td>\n",
              "      <td>0.320656</td>\n",
              "      <td>62923.604633</td>\n",
              "      <td>5.654900e+07</td>\n",
              "      <td>0.0</td>\n",
              "      <td>25.700000</td>\n",
              "      <td>0.000000</td>\n",
              "    </tr>\n",
              "    <tr>\n",
              "      <th>max</th>\n",
              "      <td>5.427591e+07</td>\n",
              "      <td>37.892650</td>\n",
              "      <td>84.730541</td>\n",
              "      <td>236990.128088</td>\n",
              "      <td>7.479865e+07</td>\n",
              "      <td>0.0</td>\n",
              "      <td>33.200000</td>\n",
              "      <td>1.000000</td>\n",
              "    </tr>\n",
              "  </tbody>\n",
              "</table>\n",
              "</div>\n",
              "      <button class=\"colab-df-convert\" onclick=\"convertToInteractive('df-66f5da3e-cd37-4876-af90-2207b090c69f')\"\n",
              "              title=\"Convert this dataframe to an interactive table.\"\n",
              "              style=\"display:none;\">\n",
              "        \n",
              "  <svg xmlns=\"http://www.w3.org/2000/svg\" height=\"24px\"viewBox=\"0 0 24 24\"\n",
              "       width=\"24px\">\n",
              "    <path d=\"M0 0h24v24H0V0z\" fill=\"none\"/>\n",
              "    <path d=\"M18.56 5.44l.94 2.06.94-2.06 2.06-.94-2.06-.94-.94-2.06-.94 2.06-2.06.94zm-11 1L8.5 8.5l.94-2.06 2.06-.94-2.06-.94L8.5 2.5l-.94 2.06-2.06.94zm10 10l.94 2.06.94-2.06 2.06-.94-2.06-.94-.94-2.06-.94 2.06-2.06.94z\"/><path d=\"M17.41 7.96l-1.37-1.37c-.4-.4-.92-.59-1.43-.59-.52 0-1.04.2-1.43.59L10.3 9.45l-7.72 7.72c-.78.78-.78 2.05 0 2.83L4 21.41c.39.39.9.59 1.41.59.51 0 1.02-.2 1.41-.59l7.78-7.78 2.81-2.81c.8-.78.8-2.07 0-2.86zM5.41 20L4 18.59l7.72-7.72 1.47 1.35L5.41 20z\"/>\n",
              "  </svg>\n",
              "      </button>\n",
              "      \n",
              "  <style>\n",
              "    .colab-df-container {\n",
              "      display:flex;\n",
              "      flex-wrap:wrap;\n",
              "      gap: 12px;\n",
              "    }\n",
              "\n",
              "    .colab-df-convert {\n",
              "      background-color: #E8F0FE;\n",
              "      border: none;\n",
              "      border-radius: 50%;\n",
              "      cursor: pointer;\n",
              "      display: none;\n",
              "      fill: #1967D2;\n",
              "      height: 32px;\n",
              "      padding: 0 0 0 0;\n",
              "      width: 32px;\n",
              "    }\n",
              "\n",
              "    .colab-df-convert:hover {\n",
              "      background-color: #E2EBFA;\n",
              "      box-shadow: 0px 1px 2px rgba(60, 64, 67, 0.3), 0px 1px 3px 1px rgba(60, 64, 67, 0.15);\n",
              "      fill: #174EA6;\n",
              "    }\n",
              "\n",
              "    [theme=dark] .colab-df-convert {\n",
              "      background-color: #3B4455;\n",
              "      fill: #D2E3FC;\n",
              "    }\n",
              "\n",
              "    [theme=dark] .colab-df-convert:hover {\n",
              "      background-color: #434B5C;\n",
              "      box-shadow: 0px 1px 3px 1px rgba(0, 0, 0, 0.15);\n",
              "      filter: drop-shadow(0px 1px 2px rgba(0, 0, 0, 0.3));\n",
              "      fill: #FFFFFF;\n",
              "    }\n",
              "  </style>\n",
              "\n",
              "      <script>\n",
              "        const buttonEl =\n",
              "          document.querySelector('#df-66f5da3e-cd37-4876-af90-2207b090c69f button.colab-df-convert');\n",
              "        buttonEl.style.display =\n",
              "          google.colab.kernel.accessAllowed ? 'block' : 'none';\n",
              "\n",
              "        async function convertToInteractive(key) {\n",
              "          const element = document.querySelector('#df-66f5da3e-cd37-4876-af90-2207b090c69f');\n",
              "          const dataTable =\n",
              "            await google.colab.kernel.invokeFunction('convertToInteractive',\n",
              "                                                     [key], {});\n",
              "          if (!dataTable) return;\n",
              "\n",
              "          const docLinkHtml = 'Like what you see? Visit the ' +\n",
              "            '<a target=\"_blank\" href=https://colab.research.google.com/notebooks/data_table.ipynb>data table notebook</a>'\n",
              "            + ' to learn more about interactive tables.';\n",
              "          element.innerHTML = '';\n",
              "          dataTable['output_type'] = 'display_data';\n",
              "          await google.colab.output.renderOutput(dataTable, element);\n",
              "          const docLink = document.createElement('div');\n",
              "          docLink.innerHTML = docLinkHtml;\n",
              "          element.appendChild(docLink);\n",
              "        }\n",
              "      </script>\n",
              "    </div>\n",
              "  </div>\n",
              "  "
            ]
          },
          "metadata": {},
          "execution_count": 18
        }
      ]
    },
    {
      "cell_type": "code",
      "source": [
        "df.nunique()"
      ],
      "metadata": {
        "colab": {
          "base_uri": "https://localhost:8080/"
        },
        "id": "VqkBtDtaaOqO",
        "outputId": "8ff42f96-7781-45ea-b1b7-2761c580bde6"
      },
      "execution_count": 19,
      "outputs": [
        {
          "output_type": "execute_result",
          "data": {
            "text/plain": [
              "id                    27423\n",
              "name                  27423\n",
              "est_diameter_min       1638\n",
              "est_diameter_max       1638\n",
              "relative_velocity     90828\n",
              "miss_distance         90536\n",
              "orbiting_body             1\n",
              "sentry_object             1\n",
              "absolute_magnitude     1638\n",
              "hazardous                 2\n",
              "dtype: int64"
            ]
          },
          "metadata": {},
          "execution_count": 19
        }
      ]
    },
    {
      "cell_type": "code",
      "source": [
        "df.drop(columns=['orbiting_body', 'sentry_object'], inplace = True)"
      ],
      "metadata": {
        "id": "eX3UeqdZaOsk"
      },
      "execution_count": 20,
      "outputs": []
    },
    {
      "cell_type": "code",
      "source": [
        "df1 = df['hazardous'].value_counts()\n",
        "print(df1)\n",
        "print('Процент опасных объектов', (df1.min()/df1.sum()).round(2))\n",
        "df1.plot(kind = 'bar')"
      ],
      "metadata": {
        "colab": {
          "base_uri": "https://localhost:8080/",
          "height": 349
        },
        "id": "aXMny1e0aOvu",
        "outputId": "4d54119d-ff4f-4776-cfb9-ae65ad8e6b69"
      },
      "execution_count": 21,
      "outputs": [
        {
          "output_type": "stream",
          "name": "stdout",
          "text": [
            "0    81996\n",
            "1     8840\n",
            "Name: hazardous, dtype: int64\n",
            "Процент опасных объектов 0.1\n"
          ]
        },
        {
          "output_type": "execute_result",
          "data": {
            "text/plain": [
              "<matplotlib.axes._subplots.AxesSubplot at 0x7ff734cf7390>"
            ]
          },
          "metadata": {},
          "execution_count": 21
        },
        {
          "output_type": "display_data",
          "data": {
            "text/plain": [
              "<Figure size 432x288 with 1 Axes>"
            ],
            "image/png": "[encoded data removed]"
          },
          "metadata": {
            "needs_background": "light"
          }
        }
      ]
    },
    {
      "cell_type": "code",
      "source": [
        "df['name'].unique()"
      ],
      "metadata": {
        "colab": {
          "base_uri": "https://localhost:8080/"
        },
        "id": "VIDvPZ4tZ19Y",
        "outputId": "d3ef18b4-d310-4a83-9813-fb50a1a9a04a"
      },
      "execution_count": 22,
      "outputs": [
        {
          "output_type": "execute_result",
          "data": {
            "text/plain": [
              "array(['162635 (2000 SS164)', '277475 (2005 WK4)', '512244 (2015 YE18)',\n",
              "       ..., '(2021 WR3)', '(2015 VK142)', '(1999 LV7)'], dtype=object)"
            ]
          },
          "metadata": {},
          "execution_count": 22
        }
      ]
    },
    {
      "cell_type": "code",
      "source": [
        "df['name'] = df['name'].str.extract('(?<=\\()(.*?)(?=\\)$)')"
      ],
      "metadata": {
        "id": "5QATUuRua0Bi"
      },
      "execution_count": 27,
      "outputs": []
    },
    {
      "cell_type": "code",
      "source": [
        "df[['year', 'name']] = df['name'].str.split(' ', 1, expand=True)"
      ],
      "metadata": {
        "id": "hda8Aa7jZ2DE"
      },
      "execution_count": 28,
      "outputs": []
    },
    {
      "cell_type": "code",
      "source": [
        "df['year'].unique()"
      ],
      "metadata": {
        "id": "ux4DRbZg0EDm",
        "colab": {
          "base_uri": "https://localhost:8080/"
        },
        "outputId": "7988e0c2-a0b2-4e65-8bbd-d206ee749f1c"
      },
      "execution_count": 29,
      "outputs": [
        {
          "output_type": "execute_result",
          "data": {
            "text/plain": [
              "array(['2000', '2005', '2015', nan, '2001', '2003', '1994', '1998',\n",
              "       '1978', '1984', '1980', '1991', '2011', '2002', '2020', '2006',\n",
              "       '2007', '2009', '2004', '2014', '1990', '2008', '2019', '1999',\n",
              "       '1993', '1997', '2013', '1951', '1950', '2012', '1996', '2010',\n",
              "       '1986', '1992', '2016', '1987', '1971', '1989', '2017', '1995',\n",
              "       '1960', '1982', '1953', 'A911', '1976', '1973', '1936', '1988',\n",
              "       '1977', '1937', '1985', '1948', '6743', '1983', 'A898', '1949',\n",
              "       '1974', '1932', '1972', '4788', '1968', '1981', '1979', 'A924',\n",
              "       '1947', '1959', '2018', '1975', '1929', '1963'], dtype=object)"
            ]
          },
          "metadata": {},
          "execution_count": 29
        }
      ]
    },
    {
      "cell_type": "code",
      "source": [
        "df.loc[df.year=='A911','year']='1911' \n",
        "df.loc[df.year=='6743','year']='1960'\n",
        "df.loc[df.year=='A898','year']='1898'\n",
        "df.loc[df.year=='6344','year']='1960'\n",
        "df.loc[df.year=='A924','year']='1924'\n",
        "df.loc[df.year=='A/2019','year']='2019'\n",
        "df.loc[df.year=='4788','year']='1960'"
      ],
      "metadata": {
        "id": "DzeuQPjdaoKA"
      },
      "execution_count": 30,
      "outputs": []
    },
    {
      "cell_type": "code",
      "source": [
        "df['year'] = pd.to_numeric(df['year'])"
      ],
      "metadata": {
        "id": "YMXftAIMaoNL"
      },
      "execution_count": 31,
      "outputs": []
    },
    {
      "cell_type": "code",
      "source": [
        "df.drop_duplicates(inplace = True)"
      ],
      "metadata": {
        "id": "3N5q63jxaoT4"
      },
      "execution_count": 33,
      "outputs": []
    },
    {
      "cell_type": "code",
      "source": [
        "from sklearn import preprocessing"
      ],
      "metadata": {
        "id": "7tKpxR-gaoWv"
      },
      "execution_count": 34,
      "outputs": []
    },
    {
      "cell_type": "code",
      "source": [
        "def number_encode_features(init_df):\n",
        "    result = init_df.copy()\n",
        "    encoders = {}\n",
        "    for column in result.columns:\n",
        "        if result.dtypes[column] == np.object:\n",
        "            encoders[column] = preprocessing.LabelEncoder()\n",
        "            result[column] = encoders[column].fit_transform(result[column])\n",
        "    return result, encoders\n",
        "\n",
        "df, encoders = number_encode_features(df)\n",
        "df.head()"
      ],
      "metadata": {
        "colab": {
          "base_uri": "https://localhost:8080/",
          "height": 278
        },
        "id": "JdHZ_fFfaoZc",
        "outputId": "8249f661-f3e4-40b1-b1fc-ae77f6056550"
      },
      "execution_count": 35,
      "outputs": [
        {
          "output_type": "stream",
          "name": "stderr",
          "text": [
            "/usr/local/lib/python3.7/dist-packages/ipykernel_launcher.py:5: DeprecationWarning: `np.object` is a deprecated alias for the builtin `object`. To silence this warning, use `object` by itself. Doing this will not modify any behavior and is safe. \n",
            "Deprecated in NumPy 1.20; for more details and guidance: https://numpy.org/devdocs/release/1.20.0-notes.html#deprecations\n",
            "  \"\"\"\n"
          ]
        },
        {
          "output_type": "execute_result",
          "data": {
            "text/plain": [
              "        id  name  est_diameter_min  est_diameter_max  relative_velocity  \\\n",
              "0  2162635  1690          1.198271          2.679415       13569.249224   \n",
              "1  2277475  2125          0.265800          0.594347       73588.726663   \n",
              "2  2512244  2345          0.722030          1.614507      114258.692129   \n",
              "3  3596030  2434          0.096506          0.215794       24764.303138   \n",
              "4  3667127  2434          0.255009          0.570217       42737.733765   \n",
              "\n",
              "   miss_distance  absolute_magnitude  hazardous    year  \n",
              "0   5.483974e+07               16.73          0  2000.0  \n",
              "1   6.143813e+07               20.00          1  2005.0  \n",
              "2   4.979872e+07               17.83          0  2015.0  \n",
              "3   2.543497e+07               22.20          0     NaN  \n",
              "4   4.627557e+07               20.09          1     NaN  "
            ],
            "text/html": [
              "\n",
              "  <div id=\"df-07ace29e-fb3d-45f8-bbc1-1a2f978ffb0f\">\n",
              "    <div class=\"colab-df-container\">\n",
              "      <div>\n",
              "<style scoped>\n",
              "    .dataframe tbody tr th:only-of-type {\n",
              "        vertical-align: middle;\n",
              "    }\n",
              "\n",
              "    .dataframe tbody tr th {\n",
              "        vertical-align: top;\n",
              "    }\n",
              "\n",
              "    .dataframe thead th {\n",
              "        text-align: right;\n",
              "    }\n",
              "</style>\n",
              "<table border=\"1\" class=\"dataframe\">\n",
              "  <thead>\n",
              "    <tr style=\"text-align: right;\">\n",
              "      <th></th>\n",
              "      <th>id</th>\n",
              "      <th>name</th>\n",
              "      <th>est_diameter_min</th>\n",
              "      <th>est_diameter_max</th>\n",
              "      <th>relative_velocity</th>\n",
              "      <th>miss_distance</th>\n",
              "      <th>absolute_magnitude</th>\n",
              "      <th>hazardous</th>\n",
              "      <th>year</th>\n",
              "    </tr>\n",
              "  </thead>\n",
              "  <tbody>\n",
              "    <tr>\n",
              "      <th>0</th>\n",
              "      <td>2162635</td>\n",
              "      <td>1690</td>\n",
              "      <td>1.198271</td>\n",
              "      <td>2.679415</td>\n",
              "      <td>13569.249224</td>\n",
              "      <td>5.483974e+07</td>\n",
              "      <td>16.73</td>\n",
              "      <td>0</td>\n",
              "      <td>2000.0</td>\n",
              "    </tr>\n",
              "    <tr>\n",
              "      <th>1</th>\n",
              "      <td>2277475</td>\n",
              "      <td>2125</td>\n",
              "      <td>0.265800</td>\n",
              "      <td>0.594347</td>\n",
              "      <td>73588.726663</td>\n",
              "      <td>6.143813e+07</td>\n",
              "      <td>20.00</td>\n",
              "      <td>1</td>\n",
              "      <td>2005.0</td>\n",
              "    </tr>\n",
              "    <tr>\n",
              "      <th>2</th>\n",
              "      <td>2512244</td>\n",
              "      <td>2345</td>\n",
              "      <td>0.722030</td>\n",
              "      <td>1.614507</td>\n",
              "      <td>114258.692129</td>\n",
              "      <td>4.979872e+07</td>\n",
              "      <td>17.83</td>\n",
              "      <td>0</td>\n",
              "      <td>2015.0</td>\n",
              "    </tr>\n",
              "    <tr>\n",
              "      <th>3</th>\n",
              "      <td>3596030</td>\n",
              "      <td>2434</td>\n",
              "      <td>0.096506</td>\n",
              "      <td>0.215794</td>\n",
              "      <td>24764.303138</td>\n",
              "      <td>2.543497e+07</td>\n",
              "      <td>22.20</td>\n",
              "      <td>0</td>\n",
              "      <td>NaN</td>\n",
              "    </tr>\n",
              "    <tr>\n",
              "      <th>4</th>\n",
              "      <td>3667127</td>\n",
              "      <td>2434</td>\n",
              "      <td>0.255009</td>\n",
              "      <td>0.570217</td>\n",
              "      <td>42737.733765</td>\n",
              "      <td>4.627557e+07</td>\n",
              "      <td>20.09</td>\n",
              "      <td>1</td>\n",
              "      <td>NaN</td>\n",
              "    </tr>\n",
              "  </tbody>\n",
              "</table>\n",
              "</div>\n",
              "      <button class=\"colab-df-convert\" onclick=\"convertToInteractive('df-07ace29e-fb3d-45f8-bbc1-1a2f978ffb0f')\"\n",
              "              title=\"Convert this dataframe to an interactive table.\"\n",
              "              style=\"display:none;\">\n",
              "        \n",
              "  <svg xmlns=\"http://www.w3.org/2000/svg\" height=\"24px\"viewBox=\"0 0 24 24\"\n",
              "       width=\"24px\">\n",
              "    <path d=\"M0 0h24v24H0V0z\" fill=\"none\"/>\n",
              "    <path d=\"M18.56 5.44l.94 2.06.94-2.06 2.06-.94-2.06-.94-.94-2.06-.94 2.06-2.06.94zm-11 1L8.5 8.5l.94-2.06 2.06-.94-2.06-.94L8.5 2.5l-.94 2.06-2.06.94zm10 10l.94 2.06.94-2.06 2.06-.94-2.06-.94-.94-2.06-.94 2.06-2.06.94z\"/><path d=\"M17.41 7.96l-1.37-1.37c-.4-.4-.92-.59-1.43-.59-.52 0-1.04.2-1.43.59L10.3 9.45l-7.72 7.72c-.78.78-.78 2.05 0 2.83L4 21.41c.39.39.9.59 1.41.59.51 0 1.02-.2 1.41-.59l7.78-7.78 2.81-2.81c.8-.78.8-2.07 0-2.86zM5.41 20L4 18.59l7.72-7.72 1.47 1.35L5.41 20z\"/>\n",
              "  </svg>\n",
              "      </button>\n",
              "      \n",
              "  <style>\n",
              "    .colab-df-container {\n",
              "      display:flex;\n",
              "      flex-wrap:wrap;\n",
              "      gap: 12px;\n",
              "    }\n",
              "\n",
              "    .colab-df-convert {\n",
              "      background-color: #E8F0FE;\n",
              "      border: none;\n",
              "      border-radius: 50%;\n",
              "      cursor: pointer;\n",
              "      display: none;\n",
              "      fill: #1967D2;\n",
              "      height: 32px;\n",
              "      padding: 0 0 0 0;\n",
              "      width: 32px;\n",
              "    }\n",
              "\n",
              "    .colab-df-convert:hover {\n",
              "      background-color: #E2EBFA;\n",
              "      box-shadow: 0px 1px 2px rgba(60, 64, 67, 0.3), 0px 1px 3px 1px rgba(60, 64, 67, 0.15);\n",
              "      fill: #174EA6;\n",
              "    }\n",
              "\n",
              "    [theme=dark] .colab-df-convert {\n",
              "      background-color: #3B4455;\n",
              "      fill: #D2E3FC;\n",
              "    }\n",
              "\n",
              "    [theme=dark] .colab-df-convert:hover {\n",
              "      background-color: #434B5C;\n",
              "      box-shadow: 0px 1px 3px 1px rgba(0, 0, 0, 0.15);\n",
              "      filter: drop-shadow(0px 1px 2px rgba(0, 0, 0, 0.3));\n",
              "      fill: #FFFFFF;\n",
              "    }\n",
              "  </style>\n",
              "\n",
              "      <script>\n",
              "        const buttonEl =\n",
              "          document.querySelector('#df-07ace29e-fb3d-45f8-bbc1-1a2f978ffb0f button.colab-df-convert');\n",
              "        buttonEl.style.display =\n",
              "          google.colab.kernel.accessAllowed ? 'block' : 'none';\n",
              "\n",
              "        async function convertToInteractive(key) {\n",
              "          const element = document.querySelector('#df-07ace29e-fb3d-45f8-bbc1-1a2f978ffb0f');\n",
              "          const dataTable =\n",
              "            await google.colab.kernel.invokeFunction('convertToInteractive',\n",
              "                                                     [key], {});\n",
              "          if (!dataTable) return;\n",
              "\n",
              "          const docLinkHtml = 'Like what you see? Visit the ' +\n",
              "            '<a target=\"_blank\" href=https://colab.research.google.com/notebooks/data_table.ipynb>data table notebook</a>'\n",
              "            + ' to learn more about interactive tables.';\n",
              "          element.innerHTML = '';\n",
              "          dataTable['output_type'] = 'display_data';\n",
              "          await google.colab.output.renderOutput(dataTable, element);\n",
              "          const docLink = document.createElement('div');\n",
              "          docLink.innerHTML = docLinkHtml;\n",
              "          element.appendChild(docLink);\n",
              "        }\n",
              "      </script>\n",
              "    </div>\n",
              "  </div>\n",
              "  "
            ]
          },
          "metadata": {},
          "execution_count": 35
        }
      ]
    },
    {
      "cell_type": "code",
      "source": [
        "plt.subplots(figsize=(5,5))\n",
        "sns.heatmap(df.corr(), square=True)\n",
        "plt.show()"
      ],
      "metadata": {
        "colab": {
          "base_uri": "https://localhost:8080/",
          "height": 391
        },
        "id": "wTMF5cNRbC6E",
        "outputId": "96a4152c-77da-4f18-8bb0-29f782c44ce4"
      },
      "execution_count": 36,
      "outputs": [
        {
          "output_type": "display_data",
          "data": {
            "text/plain": [
              "<Figure size 360x360 with 2 Axes>"
            ],
            "image/png": "[encoded data removed]"
          },
          "metadata": {
            "needs_background": "light"
          }
        }
      ]
    },
    {
      "cell_type": "code",
      "source": [
        "df.drop(columns='est_diameter_min', inplace = True)"
      ],
      "metadata": {
        "id": "zzbbQtiVbC85"
      },
      "execution_count": 37,
      "outputs": []
    },
    {
      "cell_type": "code",
      "source": [
        "from sklearn.model_selection import train_test_split"
      ],
      "metadata": {
        "id": "FIiFQhwEbDAd"
      },
      "execution_count": 38,
      "outputs": []
    },
    {
      "cell_type": "code",
      "source": [
        "X = df.drop(columns='hazardous')\n",
        "y = df['hazardous']"
      ],
      "metadata": {
        "id": "WEmr8BiGbDCu"
      },
      "execution_count": 39,
      "outputs": []
    },
    {
      "cell_type": "code",
      "source": [
        "X_train, X_test, y_train, y_test = train_test_split(X, y, test_size=0.2, random_state=42)"
      ],
      "metadata": {
        "id": "fSQC-8d-bDFU"
      },
      "execution_count": 40,
      "outputs": []
    },
    {
      "cell_type": "code",
      "source": [
        "from sklearn.preprocessing import StandardScaler\n",
        "from sklearn.model_selection import StratifiedKFold\n",
        "from sklearn import metrics"
      ],
      "metadata": {
        "id": "p3_CvYClbDH2"
      },
      "execution_count": 41,
      "outputs": []
    },
    {
      "cell_type": "code",
      "source": [
        "scaler = StandardScaler()\n",
        "X_train = scaler.fit_transform(X_train)\n",
        "X_test = scaler.transform(X_test)"
      ],
      "metadata": {
        "id": "A8prr-RnbDKi"
      },
      "execution_count": 42,
      "outputs": []
    },
    {
      "cell_type": "code",
      "source": [
        "!pip install catboost"
      ],
      "metadata": {
        "colab": {
          "base_uri": "https://localhost:8080/"
        },
        "id": "Hltb1sFvbVOw",
        "outputId": "63ee08ae-d6be-4b28-9a44-e0ce7cd4401f"
      },
      "execution_count": 44,
      "outputs": [
        {
          "output_type": "stream",
          "name": "stdout",
          "text": [
            "Looking in indexes: https://pypi.org/simple, https://us-python.pkg.dev/colab-wheels/public/simple/\n",
            "Collecting catboost\n",
            "  Downloading catboost-1.0.6-cp37-none-manylinux1_x86_64.whl (76.6 MB)\n",
            "\u001b[K     |████████████████████████████████| 76.6 MB 1.2 MB/s \n",
            "\u001b[?25hRequirement already satisfied: numpy>=1.16.0 in /usr/local/lib/python3.7/dist-packages (from catboost) (1.21.6)\n",
            "Requirement already satisfied: pandas>=0.24.0 in /usr/local/lib/python3.7/dist-packages (from catboost) (1.3.5)\n",
            "Requirement already satisfied: matplotlib in /usr/local/lib/python3.7/dist-packages (from catboost) (3.2.2)\n",
            "Requirement already satisfied: graphviz in /usr/local/lib/python3.7/dist-packages (from catboost) (0.10.1)\n",
            "Requirement already satisfied: six in /usr/local/lib/python3.7/dist-packages (from catboost) (1.15.0)\n",
            "Requirement already satisfied: scipy in /usr/local/lib/python3.7/dist-packages (from catboost) (1.7.3)\n",
            "Requirement already satisfied: plotly in /usr/local/lib/python3.7/dist-packages (from catboost) (5.5.0)\n",
            "Requirement already satisfied: pytz>=2017.3 in /usr/local/lib/python3.7/dist-packages (from pandas>=0.24.0->catboost) (2022.1)\n",
            "Requirement already satisfied: python-dateutil>=2.7.3 in /usr/local/lib/python3.7/dist-packages (from pandas>=0.24.0->catboost) (2.8.2)\n",
            "Requirement already satisfied: pyparsing!=2.0.4,!=2.1.2,!=2.1.6,>=2.0.1 in /usr/local/lib/python3.7/dist-packages (from matplotlib->catboost) (3.0.9)\n",
            "Requirement already satisfied: cycler>=0.10 in /usr/local/lib/python3.7/dist-packages (from matplotlib->catboost) (0.11.0)\n",
            "Requirement already satisfied: kiwisolver>=1.0.1 in /usr/local/lib/python3.7/dist-packages (from matplotlib->catboost) (1.4.4)\n",
            "Requirement already satisfied: typing-extensions in /usr/local/lib/python3.7/dist-packages (from kiwisolver>=1.0.1->matplotlib->catboost) (4.1.1)\n",
            "Requirement already satisfied: tenacity>=6.2.0 in /usr/local/lib/python3.7/dist-packages (from plotly->catboost) (8.0.1)\n",
            "Installing collected packages: catboost\n",
            "Successfully installed catboost-1.0.6\n"
          ]
        }
      ]
    },
    {
      "cell_type": "code",
      "source": [
        "from catboost import CatBoostClassifier"
      ],
      "metadata": {
        "id": "7eTo-AflbP69"
      },
      "execution_count": 45,
      "outputs": []
    },
    {
      "cell_type": "code",
      "source": [
        "model = CatBoostClassifier(iterations=200,learning_rate=0.15)\n",
        "\n",
        "model.fit(np.array(X_train, float),\n",
        "          np.array(y_train, float),\n",
        "          verbose=0,\n",
        "          plot=True)"
      ],
      "metadata": {
        "colab": {
          "base_uri": "https://localhost:8080/",
          "height": 34,
          "referenced_widgets": [
            "56c954ff6c02455aae487decac07896c"
          ]
        },
        "id": "SXsOmjt4bQAB",
        "outputId": "df6fe4b5-d19c-42ca-ed2a-652fa45a99da"
      },
      "execution_count": 46,
      "outputs": [
        {
          "output_type": "display_data",
          "data": {
            "text/plain": [
              "MetricVisualizer(layout=Layout(align_self='stretch', height='500px'))"
            ],
            "application/vnd.jupyter.widget-view+json": {
              "version_major": 2,
              "version_minor": 0,
              "model_id": "56c954ff6c02455aae487decac07896c"
            }
          },
          "metadata": {}
        },
        {
          "output_type": "execute_result",
          "data": {
            "text/plain": [
              "<catboost.core.CatBoostClassifier at 0x7ff7355f5110>"
            ]
          },
          "metadata": {},
          "execution_count": 46
        }
      ]
    },
    {
      "cell_type": "code",
      "source": [
        "preds = model.predict(X_test)"
      ],
      "metadata": {
        "id": "2fPw7XTAbQCw"
      },
      "execution_count": 47,
      "outputs": []
    },
    {
      "cell_type": "code",
      "source": [
        "print(metrics.classification_report(y_test, preds))"
      ],
      "metadata": {
        "colab": {
          "base_uri": "https://localhost:8080/"
        },
        "id": "6C-fooMcbQFO",
        "outputId": "3e741b95-bb7d-4a1a-9765-515f50065379"
      },
      "execution_count": 48,
      "outputs": [
        {
          "output_type": "stream",
          "name": "stdout",
          "text": [
            "              precision    recall  f1-score   support\n",
            "\n",
            "           0       0.94      0.99      0.97     16439\n",
            "           1       0.89      0.44      0.59      1729\n",
            "\n",
            "    accuracy                           0.94     18168\n",
            "   macro avg       0.92      0.72      0.78     18168\n",
            "weighted avg       0.94      0.94      0.93     18168\n",
            "\n"
          ]
        }
      ]
    },
    {
      "cell_type": "code",
      "source": [
        "from sklearn.metrics import roc_auc_score"
      ],
      "metadata": {
        "id": "mJ-OJrUGbQIA"
      },
      "execution_count": 49,
      "outputs": []
    },
    {
      "cell_type": "code",
      "source": [
        "roc_auc_score(y_test, preds)"
      ],
      "metadata": {
        "colab": {
          "base_uri": "https://localhost:8080/"
        },
        "id": "m7ya6lgQbmUJ",
        "outputId": "8f9da5c6-e9ba-432c-b697-4b00b27d2721"
      },
      "execution_count": 50,
      "outputs": [
        {
          "output_type": "execute_result",
          "data": {
            "text/plain": [
              "0.7192650565662754"
            ]
          },
          "metadata": {},
          "execution_count": 50
        }
      ]
    },
    {
      "cell_type": "code",
      "source": [
        "Gini = 2*roc_auc_score(y_test, preds) - 1\n",
        "Gini"
      ],
      "metadata": {
        "colab": {
          "base_uri": "https://localhost:8080/"
        },
        "id": "4TXSbzdDbmXA",
        "outputId": "2c69b779-ad2c-4a03-e4ea-cfa2bf170125"
      },
      "execution_count": 51,
      "outputs": [
        {
          "output_type": "execute_result",
          "data": {
            "text/plain": [
              "0.43853011313255075"
            ]
          },
          "metadata": {},
          "execution_count": 51
        }
      ]
    },
    {
      "cell_type": "code",
      "source": [
        "fpr, tpr, threshold = metrics.roc_curve(y_test, preds)\n",
        "roc_auc = metrics.auc(fpr, tpr)\n",
        "\n",
        "\n",
        "import matplotlib.pyplot as plt\n",
        "plt.title('Receiver Operating Characteristic')\n",
        "plt.plot(fpr, tpr, 'b', label = 'AUC = %0.2f' % roc_auc)\n",
        "plt.legend(loc = 'lower right')\n",
        "plt.plot([0, 1], [0, 1],'r--')\n",
        "plt.xlim([0, 1])\n",
        "plt.ylim([0, 1])\n",
        "plt.ylabel('True Positive Rate')\n",
        "plt.xlabel('False Positive Rate')\n",
        "plt.show()"
      ],
      "metadata": {
        "colab": {
          "base_uri": "https://localhost:8080/",
          "height": 295
        },
        "id": "TnL-5yIPbmaB",
        "outputId": "994250d1-cc1a-4488-c599-72f2b2116ed0"
      },
      "execution_count": 52,
      "outputs": [
        {
          "output_type": "display_data",
          "data": {
            "text/plain": [
              "<Figure size 432x288 with 1 Axes>"
            ],
            "image/png": "[encoded data removed]"
          },
          "metadata": {
            "needs_background": "light"
          }
        }
      ]
    },
    {
      "cell_type": "code",
      "source": [
        "#PySpark"
      ],
      "metadata": {
        "id": "xgzk54R0bmcn"
      },
      "execution_count": null,
      "outputs": []
    },
    {
      "cell_type": "code",
      "source": [
        "!pip install pyspark"
      ],
      "metadata": {
        "colab": {
          "base_uri": "https://localhost:8080/"
        },
        "id": "_8HexS1oPv_k",
        "outputId": "90082660-235c-46ab-dfb9-5ed9be138c30"
      },
      "execution_count": null,
      "outputs": [
        {
          "output_type": "stream",
          "name": "stdout",
          "text": [
            "Looking in indexes: https://pypi.org/simple, https://us-python.pkg.dev/colab-wheels/public/simple/\n",
            "Collecting pyspark\n",
            "  Downloading pyspark-3.3.0.tar.gz (281.3 MB)\n",
            "\u001b[K     |████████████████████████████████| 281.3 MB 46 kB/s \n",
            "\u001b[?25hCollecting py4j==0.10.9.5\n",
            "  Downloading py4j-0.10.9.5-py2.py3-none-any.whl (199 kB)\n",
            "\u001b[K     |████████████████████████████████| 199 kB 67.6 MB/s \n",
            "\u001b[?25hBuilding wheels for collected packages: pyspark\n",
            "  Building wheel for pyspark (setup.py) ... \u001b[?25l\u001b[?25hdone\n",
            "  Created wheel for pyspark: filename=pyspark-3.3.0-py2.py3-none-any.whl size=281764026 sha256=e95172869a0f840d49349ef2d3f4cd981cac7ec903c2764912020fad3509c081\n",
            "  Stored in directory: /root/.cache/pip/wheels/7a/8e/1b/f73a52650d2e5f337708d9f6a1750d451a7349a867f928b885\n",
            "Successfully built pyspark\n",
            "Installing collected packages: py4j, pyspark\n",
            "Successfully installed py4j-0.10.9.5 pyspark-3.3.0\n"
          ]
        }
      ]
    },
    {
      "cell_type": "code",
      "source": [
        "from pyspark.sql import SparkSession"
      ],
      "metadata": {
        "id": "RmGCEyjaPwJp"
      },
      "execution_count": null,
      "outputs": []
    },
    {
      "cell_type": "code",
      "source": [
        "spark = SparkSession.builder.master('local').appName('Colab').config('spark.ui.port','4050').getOrCreate()"
      ],
      "metadata": {
        "id": "SVptH7_HQMZS"
      },
      "execution_count": null,
      "outputs": []
    },
    {
      "cell_type": "code",
      "source": [
        "spark"
      ],
      "metadata": {
        "colab": {
          "base_uri": "https://localhost:8080/",
          "height": 219
        },
        "id": "z-_t70ZUPwNP",
        "outputId": "0c7018ea-fc75-448b-842b-3dae5526cfdb"
      },
      "execution_count": null,
      "outputs": [
        {
          "output_type": "execute_result",
          "data": {
            "text/plain": [
              "<pyspark.sql.session.SparkSession at 0x7f3cdfbfe690>"
            ],
            "text/html": [
              "\n",
              "            <div>\n",
              "                <p><b>SparkSession - in-memory</b></p>\n",
              "                \n",
              "        <div>\n",
              "            <p><b>SparkContext</b></p>\n",
              "\n",
              "            <p><a href=\"http://09cbb29deb57:4050\">Spark UI</a></p>\n",
              "\n",
              "            <dl>\n",
              "              <dt>Version</dt>\n",
              "                <dd><code>v3.3.0</code></dd>\n",
              "              <dt>Master</dt>\n",
              "                <dd><code>local</code></dd>\n",
              "              <dt>AppName</dt>\n",
              "                <dd><code>Colab</code></dd>\n",
              "            </dl>\n",
              "        </div>\n",
              "        \n",
              "            </div>\n",
              "        "
            ]
          },
          "metadata": {},
          "execution_count": 13
        }
      ]
    },
    {
      "cell_type": "code",
      "source": [
        "from pyspark.sql.types import StructType, StructField\n",
        "from pyspark.sql.types import StringType, IntegerType, FloatType, BooleanType, DoubleType"
      ],
      "metadata": {
        "id": "mU0P5-sJbdYx"
      },
      "execution_count": null,
      "outputs": []
    },
    {
      "cell_type": "code",
      "source": [
        "schema = StructType([\n",
        "    StructField(\"id\", IntegerType()),\n",
        "    StructField(\"name\", StringType()),\n",
        "    StructField(\"est_diameter_min\", FloatType()),\n",
        "    StructField(\"est_diameter_max\", FloatType()),\n",
        "    StructField(\"relative_velocity\", FloatType()),\n",
        "    StructField(\"miss_distance\", DoubleType()),\n",
        "    StructField(\"orbiting_body\", StringType()),\n",
        "    StructField(\"sentry_object\", BooleanType()),\n",
        "    StructField(\"absolute_magnitude\", FloatType()),\n",
        "    StructField(\"hazardous\", BooleanType())\n",
        "])"
      ],
      "metadata": {
        "id": "d5NHu7s4bdbR"
      },
      "execution_count": null,
      "outputs": []
    },
    {
      "cell_type": "code",
      "source": [
        "dataset = spark.read.csv(\"./neo.csv\", schema=schema, header=True)"
      ],
      "metadata": {
        "id": "fdf_jhB3bdeS"
      },
      "execution_count": null,
      "outputs": []
    },
    {
      "cell_type": "code",
      "source": [
        "dataset.show(3, vertical=True)"
      ],
      "metadata": {
        "colab": {
          "base_uri": "https://localhost:8080/"
        },
        "id": "qgSZwfnUbdgo",
        "outputId": "b5a0fbcd-88dc-49fa-e152-36ddcef32334"
      },
      "execution_count": null,
      "outputs": [
        {
          "output_type": "stream",
          "name": "stdout",
          "text": [
            "-RECORD 0---------------------------------\n",
            " id                 | 2162635             \n",
            " name               | 162635 (2000 SS164) \n",
            " est_diameter_min   | 1.1982708           \n",
            " est_diameter_max   | 2.679415            \n",
            " relative_velocity  | 13569.249           \n",
            " miss_distance      | 5.483974408284605E7 \n",
            " orbiting_body      | Earth               \n",
            " sentry_object      | false               \n",
            " absolute_magnitude | 16.73               \n",
            " hazardous          | false               \n",
            "-RECORD 1---------------------------------\n",
            " id                 | 2277475             \n",
            " name               | 277475 (2005 WK4)   \n",
            " est_diameter_min   | 0.2658              \n",
            " est_diameter_max   | 0.5943469           \n",
            " relative_velocity  | 73588.73            \n",
            " miss_distance      | 6.143812652395093E7 \n",
            " orbiting_body      | Earth               \n",
            " sentry_object      | false               \n",
            " absolute_magnitude | 20.0                \n",
            " hazardous          | true                \n",
            "-RECORD 2---------------------------------\n",
            " id                 | 2512244             \n",
            " name               | 512244 (2015 YE18)  \n",
            " est_diameter_min   | 0.72202957          \n",
            " est_diameter_max   | 1.6145072           \n",
            " relative_velocity  | 114258.695          \n",
            " miss_distance      | 4.979872494045679E7 \n",
            " orbiting_body      | Earth               \n",
            " sentry_object      | false               \n",
            " absolute_magnitude | 17.83               \n",
            " hazardous          | false               \n",
            "only showing top 3 rows\n",
            "\n"
          ]
        }
      ]
    },
    {
      "cell_type": "code",
      "source": [
        "from pyspark.sql import functions as f"
      ],
      "metadata": {
        "id": "hOf7QOXXbdjM"
      },
      "execution_count": null,
      "outputs": []
    },
    {
      "cell_type": "code",
      "source": [
        "target = f.when(\n",
        "    (dataset.hazardous == 'false'),\n",
        "    0\n",
        ").otherwise(1)"
      ],
      "metadata": {
        "id": "POdYLkrBbdlI"
      },
      "execution_count": null,
      "outputs": []
    },
    {
      "cell_type": "code",
      "source": [
        "dataset = dataset.withColumn(\"target\", target)"
      ],
      "metadata": {
        "id": "5iqlK-Vubdne"
      },
      "execution_count": null,
      "outputs": []
    },
    {
      "cell_type": "code",
      "source": [
        "dataset.select(\"id\", \"target\").show(20)"
      ],
      "metadata": {
        "colab": {
          "base_uri": "https://localhost:8080/"
        },
        "id": "MAIIZiISbdpq",
        "outputId": "d71f49af-604a-41dd-aa8d-bce26457da7f"
      },
      "execution_count": null,
      "outputs": [
        {
          "output_type": "stream",
          "name": "stdout",
          "text": [
            "+--------+------+\n",
            "|      id|target|\n",
            "+--------+------+\n",
            "| 2162635|     0|\n",
            "| 2277475|     1|\n",
            "| 2512244|     0|\n",
            "| 3596030|     0|\n",
            "| 3667127|     1|\n",
            "|54138696|     0|\n",
            "|54189957|     0|\n",
            "|54230078|     0|\n",
            "| 2088213|     0|\n",
            "| 3766065|     0|\n",
            "|54049873|     1|\n",
            "|54099949|     0|\n",
            "|54104555|     0|\n",
            "|54235433|     0|\n",
            "| 2198752|     0|\n",
            "| 3069224|     0|\n",
            "| 3739154|     0|\n",
            "| 3795026|     0|\n",
            "| 3797456|     0|\n",
            "| 3825138|     0|\n",
            "+--------+------+\n",
            "only showing top 20 rows\n",
            "\n"
          ]
        }
      ]
    },
    {
      "cell_type": "code",
      "source": [
        "dataset.groupBy(\"target\").count().collect()"
      ],
      "metadata": {
        "colab": {
          "base_uri": "https://localhost:8080/"
        },
        "id": "_q3AgX9ygfaJ",
        "outputId": "4a741888-1661-4bce-c642-f5d8a3354297"
      },
      "execution_count": null,
      "outputs": [
        {
          "output_type": "execute_result",
          "data": {
            "text/plain": [
              "[Row(target=1, count=8840), Row(target=0, count=81996)]"
            ]
          },
          "metadata": {},
          "execution_count": 22
        }
      ]
    },
    {
      "cell_type": "code",
      "source": [
        "8840 / (8840 + 81996)"
      ],
      "metadata": {
        "colab": {
          "base_uri": "https://localhost:8080/"
        },
        "id": "nuOpGPw0bdr_",
        "outputId": "f21fd449-1ec8-4639-8a35-f6d7d92a5ded"
      },
      "execution_count": null,
      "outputs": [
        {
          "output_type": "execute_result",
          "data": {
            "text/plain": [
              "0.09731824386806993"
            ]
          },
          "metadata": {},
          "execution_count": 39
        }
      ]
    },
    {
      "cell_type": "code",
      "source": [
        "dataset = dataset.drop(\"orbiting_body\", \"sentry_object\", \"hazardous\").cache()"
      ],
      "metadata": {
        "id": "6E48hd6QgOFC"
      },
      "execution_count": null,
      "outputs": []
    },
    {
      "cell_type": "code",
      "source": [
        "dataset.count()"
      ],
      "metadata": {
        "colab": {
          "base_uri": "https://localhost:8080/"
        },
        "id": "mPJLfHjxgOHu",
        "outputId": "227dfe6d-275a-4340-9a2b-8dbaa404eb8e"
      },
      "execution_count": null,
      "outputs": [
        {
          "output_type": "execute_result",
          "data": {
            "text/plain": [
              "90836"
            ]
          },
          "metadata": {},
          "execution_count": 107
        }
      ]
    },
    {
      "cell_type": "code",
      "source": [
        "dataset.show(2, False, True)"
      ],
      "metadata": {
        "colab": {
          "base_uri": "https://localhost:8080/"
        },
        "id": "VYMkz_ktgOKU",
        "outputId": "fc01c90d-0c65-489f-b745-0bd4e32fef84"
      },
      "execution_count": null,
      "outputs": [
        {
          "output_type": "stream",
          "name": "stdout",
          "text": [
            "-RECORD 0---------------------------------\n",
            " id                 | 2162635             \n",
            " name               | 162635 (2000 SS164) \n",
            " est_diameter_min   | 1.1982708           \n",
            " est_diameter_max   | 2.679415            \n",
            " relative_velocity  | 13569.249           \n",
            " miss_distance      | 5.483974408284605E7 \n",
            " absolute_magnitude | 16.73               \n",
            " target             | 0                   \n",
            "-RECORD 1---------------------------------\n",
            " id                 | 2277475             \n",
            " name               | 277475 (2005 WK4)   \n",
            " est_diameter_min   | 0.2658              \n",
            " est_diameter_max   | 0.5943469           \n",
            " relative_velocity  | 73588.73            \n",
            " miss_distance      | 6.143812652395093E7 \n",
            " absolute_magnitude | 20.0                \n",
            " target             | 1                   \n",
            "only showing top 2 rows\n",
            "\n"
          ]
        }
      ]
    },
    {
      "cell_type": "code",
      "source": [
        "dataset = dataset.withColumn('name', f.regexp_extract('name', r\"\\(([^()]+)\\)$\", 1))"
      ],
      "metadata": {
        "id": "5omIgfnqu-ER"
      },
      "execution_count": null,
      "outputs": []
    },
    {
      "cell_type": "code",
      "source": [
        "dataset.show(5)"
      ],
      "metadata": {
        "colab": {
          "base_uri": "https://localhost:8080/"
        },
        "id": "Ib4M9x1Pu-Gv",
        "outputId": "c014d716-c8ff-42ef-83ee-d346157d655d"
      },
      "execution_count": null,
      "outputs": [
        {
          "output_type": "stream",
          "name": "stdout",
          "text": [
            "+-------+----------+----------------+----------------+-----------------+-------------------+------------------+------+\n",
            "|     id|      name|est_diameter_min|est_diameter_max|relative_velocity|      miss_distance|absolute_magnitude|target|\n",
            "+-------+----------+----------------+----------------+-----------------+-------------------+------------------+------+\n",
            "|2162635|2000 SS164|       1.1982708|        2.679415|        13569.249|5.483974408284605E7|             16.73|     0|\n",
            "|2277475|  2005 WK4|          0.2658|       0.5943469|         73588.73|6.143812652395093E7|              20.0|     1|\n",
            "|2512244| 2015 YE18|      0.72202957|       1.6145072|       114258.695|4.979872494045679E7|             17.83|     0|\n",
            "|3596030| 2012 BV13|      0.09650615|      0.21579431|        24764.303|2.543497272075825E7|              22.2|     0|\n",
            "|3667127| 2014 GE35|       0.2550087|       0.5702168|        42737.734|4.627556700130072E7|             20.09|     1|\n",
            "+-------+----------+----------------+----------------+-----------------+-------------------+------------------+------+\n",
            "only showing top 5 rows\n",
            "\n"
          ]
        }
      ]
    },
    {
      "cell_type": "code",
      "source": [
        "dataset = dataset.withColumn('year', f.split(dataset['name'], ' ').getItem(0)) \\\n",
        "       .withColumn('name', f.split(dataset['name'], ' ').getItem(1))"
      ],
      "metadata": {
        "id": "oGDTppvnvj8t"
      },
      "execution_count": null,
      "outputs": []
    },
    {
      "cell_type": "code",
      "source": [
        "dataset.show(5)"
      ],
      "metadata": {
        "colab": {
          "base_uri": "https://localhost:8080/"
        },
        "id": "kNwcInhFwDeW",
        "outputId": "e8f0c113-6e59-49dc-c890-df9d3b45f304"
      },
      "execution_count": null,
      "outputs": [
        {
          "output_type": "stream",
          "name": "stdout",
          "text": [
            "+-------+-----+----------------+----------------+-----------------+-------------------+------------------+------+----+\n",
            "|     id| name|est_diameter_min|est_diameter_max|relative_velocity|      miss_distance|absolute_magnitude|target|year|\n",
            "+-------+-----+----------------+----------------+-----------------+-------------------+------------------+------+----+\n",
            "|2162635|SS164|       1.1982708|        2.679415|        13569.249|5.483974408284605E7|             16.73|     0|2000|\n",
            "|2277475|  WK4|          0.2658|       0.5943469|         73588.73|6.143812652395093E7|              20.0|     1|2005|\n",
            "|2512244| YE18|      0.72202957|       1.6145072|       114258.695|4.979872494045679E7|             17.83|     0|2015|\n",
            "|3596030| BV13|      0.09650615|      0.21579431|        24764.303|2.543497272075825E7|              22.2|     0|2012|\n",
            "|3667127| GE35|       0.2550087|       0.5702168|        42737.734|4.627556700130072E7|             20.09|     1|2014|\n",
            "+-------+-----+----------------+----------------+-----------------+-------------------+------------------+------+----+\n",
            "only showing top 5 rows\n",
            "\n"
          ]
        }
      ]
    },
    {
      "cell_type": "code",
      "source": [
        "dataset = dataset.drop(\"index\").cache()"
      ],
      "metadata": {
        "id": "z-_rEmU2tjQR"
      },
      "execution_count": null,
      "outputs": []
    },
    {
      "cell_type": "code",
      "source": [
        "dataset.count()"
      ],
      "metadata": {
        "colab": {
          "base_uri": "https://localhost:8080/"
        },
        "id": "kdF1GfuFr6Dc",
        "outputId": "7f99a7a3-3460-429f-e369-f96a7e3b33fb"
      },
      "execution_count": null,
      "outputs": [
        {
          "output_type": "execute_result",
          "data": {
            "text/plain": [
              "90836"
            ]
          },
          "metadata": {},
          "execution_count": 27
        }
      ]
    },
    {
      "cell_type": "code",
      "source": [
        "dataset = dataset.withColumn('year', f.when(dataset.year == 'A911','1911').otherwise(dataset.year))\n",
        "dataset = dataset.withColumn('year', f.when(dataset.year == '6743','1960').otherwise(dataset.year))\n",
        "dataset = dataset.withColumn('year', f.when(dataset.year == 'A898','1898').otherwise(dataset.year))\n",
        "dataset = dataset.withColumn('year', f.when(dataset.year == '6344','1960').otherwise(dataset.year))\n",
        "dataset = dataset.withColumn('year', f.when(dataset.year == 'A924','1924').otherwise(dataset.year))\n",
        "dataset = dataset.withColumn('year', f.when(dataset.year == 'A/2019','2019').otherwise(dataset.year))\n",
        "dataset = dataset.withColumn('year', f.when(dataset.year == '4788','1960').otherwise(dataset.year))"
      ],
      "metadata": {
        "id": "h4pER20bFARI"
      },
      "execution_count": null,
      "outputs": []
    },
    {
      "cell_type": "code",
      "source": [
        "dataset.show()"
      ],
      "metadata": {
        "colab": {
          "base_uri": "https://localhost:8080/"
        },
        "id": "cwgUiGT1G5Q5",
        "outputId": "baf26462-0cbc-422f-e73d-08fb68bdb327"
      },
      "execution_count": null,
      "outputs": [
        {
          "output_type": "stream",
          "name": "stdout",
          "text": [
            "+--------+-----+----------------+----------------+-----------------+--------------------+------------------+------+----+\n",
            "|      id| name|est_diameter_min|est_diameter_max|relative_velocity|       miss_distance|absolute_magnitude|target|year|\n",
            "+--------+-----+----------------+----------------+-----------------+--------------------+------------------+------+----+\n",
            "| 2162635|SS164|       1.1982708|        2.679415|        13569.249| 5.483974408284605E7|             16.73|     0|2000|\n",
            "| 2277475|  WK4|          0.2658|       0.5943469|         73588.73| 6.143812652395093E7|              20.0|     1|2005|\n",
            "| 2512244| YE18|      0.72202957|       1.6145072|       114258.695| 4.979872494045679E7|             17.83|     0|2015|\n",
            "| 3596030| BV13|      0.09650615|      0.21579431|        24764.303| 2.543497272075825E7|              22.2|     0|2012|\n",
            "| 3667127| GE35|       0.2550087|       0.5702168|        42737.734| 4.627556700130072E7|             20.09|     1|2014|\n",
            "|54138696| GY23|     0.036354233|     0.081290536|        34297.586| 4.058569122792288E7|             24.32|     0|2021|\n",
            "|54189957| PY40|       0.1716149|      0.38374257|        27529.473| 2.906912141864897E7|             20.95|     0|2021|\n",
            "|54230078|  XD6|    0.0053278864|     0.011913517|         57544.47| 5.511501925807114E7|             28.49|     0|2021|\n",
            "| 2088213|  AF2|      0.35039264|      0.78350174|         56625.21| 6.903598003881611E7|              19.4|     0|2001|\n",
            "| 3766065|   YM|     0.105816886|      0.23661375|         48425.84| 3.835526156076106E7|              22.0|     0|2016|\n",
            "|54049873|  OT6|      0.25267076|        0.564989|        58430.695|3.8337496948336646E7|             20.11|     1|2020|\n",
            "|54099949|  XW4|      0.15295194|      0.34201092|         64393.93| 7.198310530586366E7|              21.2|     0|2020|\n",
            "|54104555|  AW1|      0.06991252|      0.15632915|        38018.617| 5.209302160346941E7|              22.9|     0|2021|\n",
            "|54235433|   AM|     0.006145468|     0.013741685|        24323.047|2.4617585592055667E7|             28.18|     0|2022|\n",
            "| 2198752| EA60|      0.29010484|      0.64869416|        10402.002| 6.078929602771025E7|             19.81|     0|2005|\n",
            "| 3069224|YT134|       0.4836765|       1.0815336|         74576.93| 5.988080989977076E7|              18.7|     0|2000|\n",
            "| 3739154|  AF2|    0.0069912523|     0.015632916|         75486.09| 7.138705794968764E7|              27.9|     0|2016|\n",
            "| 3795026|  YU3|      0.04411182|      0.09863703|         70770.59|2.7717237017649755E7|              23.9|     0|2017|\n",
            "| 3797456|  AN2|     0.029144391|     0.065168835|        42111.043|3.9421282189457454E7|              24.8|     0|2018|\n",
            "| 3825138|  LC3|      0.46190745|       1.0328565|        104810.09|1.8832837961159527E7|              18.8|     0|2018|\n",
            "+--------+-----+----------------+----------------+-----------------+--------------------+------------------+------+----+\n",
            "only showing top 20 rows\n",
            "\n"
          ]
        }
      ]
    },
    {
      "cell_type": "code",
      "source": [
        "dataset= dataset.withColumn('year', dataset['year'].cast(IntegerType()))\n",
        "dataset.printSchema()"
      ],
      "metadata": {
        "colab": {
          "base_uri": "https://localhost:8080/"
        },
        "id": "HKoV50jC8HNd",
        "outputId": "faa2582c-c854-4fb3-93cd-e0416028bbae"
      },
      "execution_count": null,
      "outputs": [
        {
          "output_type": "stream",
          "name": "stdout",
          "text": [
            "root\n",
            " |-- id: integer (nullable = true)\n",
            " |-- name: string (nullable = true)\n",
            " |-- est_diameter_min: float (nullable = true)\n",
            " |-- est_diameter_max: float (nullable = true)\n",
            " |-- relative_velocity: float (nullable = true)\n",
            " |-- miss_distance: double (nullable = true)\n",
            " |-- absolute_magnitude: float (nullable = true)\n",
            " |-- target: integer (nullable = false)\n",
            " |-- year: integer (nullable = true)\n",
            "\n"
          ]
        }
      ]
    },
    {
      "cell_type": "code",
      "source": [
        "from pyspark.ml.feature import StringIndexer"
      ],
      "metadata": {
        "id": "f95om1-PLiE-"
      },
      "execution_count": null,
      "outputs": []
    },
    {
      "cell_type": "code",
      "source": [
        "strind_ind = StringIndexer(inputCols=['name'],  outputCols=['name_int'])"
      ],
      "metadata": {
        "id": "qAcZHs8VLixV"
      },
      "execution_count": null,
      "outputs": []
    },
    {
      "cell_type": "code",
      "source": [
        "dataset = strind_ind.fit(dataset).transform(dataset)"
      ],
      "metadata": {
        "id": "RKvcSAYtLi2Q"
      },
      "execution_count": null,
      "outputs": []
    },
    {
      "cell_type": "code",
      "source": [
        "dataset.show()"
      ],
      "metadata": {
        "colab": {
          "base_uri": "https://localhost:8080/"
        },
        "id": "EOkzum8SLi9C",
        "outputId": "1d4a3b06-6a2b-4d02-e40f-df36ee7483a0"
      },
      "execution_count": null,
      "outputs": [
        {
          "output_type": "stream",
          "name": "stdout",
          "text": [
            "+--------+-----+----------------+----------------+-----------------+--------------------+------------------+------+----+--------+\n",
            "|      id| name|est_diameter_min|est_diameter_max|relative_velocity|       miss_distance|absolute_magnitude|target|year|name_int|\n",
            "+--------+-----+----------------+----------------+-----------------+--------------------+------------------+------+----+--------+\n",
            "| 2162635|SS164|       1.1982708|        2.679415|        13569.249| 5.483974408284605E7|             16.73|     0|2000| 13108.0|\n",
            "| 2277475|  WK4|          0.2658|       0.5943469|         73588.73| 6.143812652395093E7|              20.0|     1|2005|   142.0|\n",
            "| 2512244| YE18|      0.72202957|       1.6145072|       114258.695| 4.979872494045679E7|             17.83|     0|2015|  4509.0|\n",
            "| 3596030| BV13|      0.09650615|      0.21579431|        24764.303| 2.543497272075825E7|              22.2|     0|2012|  3497.0|\n",
            "| 3667127| GE35|       0.2550087|       0.5702168|        42737.734| 4.627556700130072E7|             20.09|     1|2014|  7419.0|\n",
            "|54138696| GY23|     0.036354233|     0.081290536|        34297.586| 4.058569122792288E7|             24.32|     0|2021|  1157.0|\n",
            "|54189957| PY40|       0.1716149|      0.38374257|        27529.473| 2.906912141864897E7|             20.95|     0|2021|  5689.0|\n",
            "|54230078|  XD6|    0.0053278864|     0.011913517|         57544.47| 5.511501925807114E7|             28.49|     0|2021|  2592.0|\n",
            "| 2088213|  AF2|      0.35039264|      0.78350174|         56625.21| 6.903598003881611E7|              19.4|     0|2001|   254.0|\n",
            "| 3766065|   YM|     0.105816886|      0.23661375|         48425.84| 3.835526156076106E7|              22.0|     0|2016|  1247.0|\n",
            "|54049873|  OT6|      0.25267076|        0.564989|        58430.695|3.8337496948336646E7|             20.11|     1|2020|  2187.0|\n",
            "|54099949|  XW4|      0.15295194|      0.34201092|         64393.93| 7.198310530586366E7|              21.2|     0|2020|   831.0|\n",
            "|54104555|  AW1|      0.06991252|      0.15632915|        38018.617| 5.209302160346941E7|              22.9|     0|2021|  1269.0|\n",
            "|54235433|   AM|     0.006145468|     0.013741685|        24323.047|2.4617585592055667E7|             28.18|     0|2022|   126.0|\n",
            "| 2198752| EA60|      0.29010484|      0.64869416|        10402.002| 6.078929602771025E7|             19.81|     0|2005|  4649.0|\n",
            "| 3069224|YT134|       0.4836765|       1.0815336|         74576.93| 5.988080989977076E7|              18.7|     0|2000|  8297.0|\n",
            "| 3739154|  AF2|    0.0069912523|     0.015632916|         75486.09| 7.138705794968764E7|              27.9|     0|2016|   254.0|\n",
            "| 3795026|  YU3|      0.04411182|      0.09863703|         70770.59|2.7717237017649755E7|              23.9|     0|2017|   678.0|\n",
            "| 3797456|  AN2|     0.029144391|     0.065168835|        42111.043|3.9421282189457454E7|              24.8|     0|2018|   367.0|\n",
            "| 3825138|  LC3|      0.46190745|       1.0328565|        104810.09|1.8832837961159527E7|              18.8|     0|2018|  1901.0|\n",
            "+--------+-----+----------------+----------------+-----------------+--------------------+------------------+------+----+--------+\n",
            "only showing top 20 rows\n",
            "\n"
          ]
        }
      ]
    },
    {
      "cell_type": "code",
      "source": [
        "from pyspark.ml.feature import OneHotEncoder\n",
        "encoder = OneHotEncoder(inputCols=['name_int'],  outputCols=['name_vec'])"
      ],
      "metadata": {
        "id": "64UfNm93Hmvr"
      },
      "execution_count": null,
      "outputs": []
    },
    {
      "cell_type": "code",
      "source": [
        "df_1 = encoder.fit(dataset).transform(dataset)"
      ],
      "metadata": {
        "id": "v-RXwcP_LQuI"
      },
      "execution_count": null,
      "outputs": []
    },
    {
      "cell_type": "code",
      "source": [
        "df_1.show(2)"
      ],
      "metadata": {
        "colab": {
          "base_uri": "https://localhost:8080/"
        },
        "id": "zl07EJ0UJWc6",
        "outputId": "f59bd5c9-ebdb-49f4-c807-a1c9678f4cd6"
      },
      "execution_count": null,
      "outputs": [
        {
          "output_type": "stream",
          "name": "stdout",
          "text": [
            "+-------+-----+----------------+----------------+-----------------+-------------------+------------------+------+----+--------+--------------------+\n",
            "|     id| name|est_diameter_min|est_diameter_max|relative_velocity|      miss_distance|absolute_magnitude|target|year|name_int|            name_vec|\n",
            "+-------+-----+----------------+----------------+-----------------+-------------------+------------------+------+----+--------+--------------------+\n",
            "|2162635|SS164|       1.1982708|        2.679415|        13569.249|5.483974408284605E7|             16.73|     0|2000| 13108.0|(14277,[13108],[1...|\n",
            "|2277475|  WK4|          0.2658|       0.5943469|         73588.73|6.143812652395093E7|              20.0|     1|2005|   142.0| (14277,[142],[1.0])|\n",
            "+-------+-----+----------------+----------------+-----------------+-------------------+------------------+------+----+--------+--------------------+\n",
            "only showing top 2 rows\n",
            "\n"
          ]
        }
      ]
    },
    {
      "cell_type": "code",
      "source": [
        "from pyspark.ml.feature import VectorAssembler"
      ],
      "metadata": {
        "id": "ZI0MLtot6Avt"
      },
      "execution_count": null,
      "outputs": []
    },
    {
      "cell_type": "code",
      "source": [
        "features = ['id','name_int','est_diameter_min','est_diameter_max','relative_velocity','miss_distance','absolute_magnitude','year']\n",
        "vector = VectorAssembler(inputCols=features, outputCol='features')\n",
        "transformed_data = vector.transform(dataset)\n",
        "transformed_data.show(2)"
      ],
      "metadata": {
        "colab": {
          "base_uri": "https://localhost:8080/"
        },
        "id": "W07uja_t4Jx3",
        "outputId": "2d64c0a5-6f9e-45df-fffd-a0a0883e43f2"
      },
      "execution_count": null,
      "outputs": [
        {
          "output_type": "stream",
          "name": "stdout",
          "text": [
            "+-------+-----+----------------+----------------+-----------------+-------------------+------------------+------+----+--------+--------------------+\n",
            "|     id| name|est_diameter_min|est_diameter_max|relative_velocity|      miss_distance|absolute_magnitude|target|year|name_int|            features|\n",
            "+-------+-----+----------------+----------------+-----------------+-------------------+------------------+------+----+--------+--------------------+\n",
            "|2162635|SS164|       1.1982708|        2.679415|        13569.249|5.483974408284605E7|             16.73|     0|2000| 13108.0|[2162635.0,1.1982...|\n",
            "|2277475|  WK4|          0.2658|       0.5943469|         73588.73|6.143812652395093E7|              20.0|     1|2005|   142.0|[2277475.0,0.2657...|\n",
            "+-------+-----+----------------+----------------+-----------------+-------------------+------------------+------+----+--------+--------------------+\n",
            "only showing top 2 rows\n",
            "\n"
          ]
        }
      ]
    },
    {
      "cell_type": "code",
      "source": [
        "(training_data, test_data) = transformed_data.randomSplit([0.8,0.2])"
      ],
      "metadata": {
        "id": "wvkwVYgk4J0h"
      },
      "execution_count": null,
      "outputs": []
    },
    {
      "cell_type": "code",
      "source": [
        "from pyspark.ml.classification import GBTClassifier\n",
        "from pyspark.ml.evaluation import MulticlassClassificationEvaluator\n",
        "gb = GBTClassifier(labelCol = 'target', featuresCol = 'features')\n",
        "gbModel = gb.fit(training_data)\n",
        "gb_predictions = gbModel.transform(test_data)"
      ],
      "metadata": {
        "id": "RDGy2fCV4J3B"
      },
      "execution_count": null,
      "outputs": []
    },
    {
      "cell_type": "code",
      "source": [
        "multi_evaluator = MulticlassClassificationEvaluator(labelCol = 'target', metricName = 'accuracy')\n",
        "print('Accuracy:', multi_evaluator.evaluate(gb_predictions))"
      ],
      "metadata": {
        "colab": {
          "base_uri": "https://localhost:8080/"
        },
        "id": "F1hZOMBzSrBy",
        "outputId": "db96e771-141a-4d7a-c06d-981c029691da"
      },
      "execution_count": null,
      "outputs": [
        {
          "output_type": "stream",
          "name": "stdout",
          "text": [
            "Accuracy: 0.9192908032849296\n"
          ]
        }
      ]
    },
    {
      "cell_type": "code",
      "source": [
        "gb_predictions.select(\"id\", \"target\", \"prediction\", \"probability\", \"rawPrediction\").show(5)"
      ],
      "metadata": {
        "colab": {
          "base_uri": "https://localhost:8080/"
        },
        "id": "D6UrBB1zQR9X",
        "outputId": "bf589aea-2f0b-4455-8442-19027f4fcb64"
      },
      "execution_count": null,
      "outputs": [
        {
          "output_type": "stream",
          "name": "stdout",
          "text": [
            "+-------+------+----------+--------------------+--------------------+\n",
            "|     id|target|prediction|         probability|       rawPrediction|\n",
            "+-------+------+----------+--------------------+--------------------+\n",
            "|2000433|     0|       0.0|[0.82859153002688...|[0.78783894310346...|\n",
            "|2001036|     0|       0.0|[0.73143559038356...|[0.50095919656972...|\n",
            "|2001580|     0|       0.0|[0.70943898099603...|[0.44633044381791...|\n",
            "|2001620|     1|       0.0|[0.66847567024400...|[0.35064940073442...|\n",
            "|2001620|     1|       0.0|[0.68018355559495...|[0.37730773823056...|\n",
            "+-------+------+----------+--------------------+--------------------+\n",
            "only showing top 5 rows\n",
            "\n"
          ]
        }
      ]
    },
    {
      "cell_type": "code",
      "source": [
        "gb_predictions_pd = gb_predictions.select(\"target\", f.col(\"prediction\").cast(\"int\")).toPandas()"
      ],
      "metadata": {
        "id": "ZtXlz26pQSAx"
      },
      "execution_count": null,
      "outputs": []
    },
    {
      "cell_type": "code",
      "source": [
        "from sklearn.metrics import classification_report, precision_score"
      ],
      "metadata": {
        "id": "lhLvefabN5Ux"
      },
      "execution_count": null,
      "outputs": []
    },
    {
      "cell_type": "code",
      "source": [
        "print(classification_report(gb_predictions_pd.target, gb_predictions_pd.prediction))"
      ],
      "metadata": {
        "colab": {
          "base_uri": "https://localhost:8080/"
        },
        "id": "YE5WE3IBSsmp",
        "outputId": "be211b6c-a38a-44a1-e7e7-9793481e6c84"
      },
      "execution_count": null,
      "outputs": [
        {
          "output_type": "stream",
          "name": "stdout",
          "text": [
            "              precision    recall  f1-score   support\n",
            "\n",
            "           0       0.92      0.99      0.96     16595\n",
            "           1       0.76      0.25      0.38      1792\n",
            "\n",
            "    accuracy                           0.92     18387\n",
            "   macro avg       0.84      0.62      0.67     18387\n",
            "weighted avg       0.91      0.92      0.90     18387\n",
            "\n"
          ]
        }
      ]
    },
    {
      "cell_type": "code",
      "source": [
        "from pyspark.ml.evaluation import BinaryClassificationEvaluator"
      ],
      "metadata": {
        "id": "cdqxni7LN5Xz"
      },
      "execution_count": null,
      "outputs": []
    },
    {
      "cell_type": "code",
      "source": [
        "evaluator = BinaryClassificationEvaluator(rawPredictionCol=\"rawPrediction\", labelCol=\"target\", metricName='areaUnderROC')"
      ],
      "metadata": {
        "id": "YL_x52viPMkw"
      },
      "execution_count": null,
      "outputs": []
    },
    {
      "cell_type": "code",
      "source": [
        "evaluator.evaluate(gb_predictions)"
      ],
      "metadata": {
        "colab": {
          "base_uri": "https://localhost:8080/"
        },
        "id": "ckNgmpoTPMno",
        "outputId": "f8028934-275d-455c-e3bb-98c32cb8899d"
      },
      "execution_count": null,
      "outputs": [
        {
          "output_type": "execute_result",
          "data": {
            "text/plain": [
              "0.9264394765796494"
            ]
          },
          "metadata": {},
          "execution_count": 59
        }
      ]
    },
    {
      "cell_type": "code",
      "source": [
        "Gini_GBTClassifier = 2*0.9264394765796494 - 1\n",
        "Gini_GBTClassifier"
      ],
      "metadata": {
        "colab": {
          "base_uri": "https://localhost:8080/"
        },
        "id": "cpNdi7U-cirW",
        "outputId": "e32517dc-1850-410f-aa95-76b3a4f95e1d"
      },
      "execution_count": 53,
      "outputs": [
        {
          "output_type": "execute_result",
          "data": {
            "text/plain": [
              "0.8528789531592988"
            ]
          },
          "metadata": {},
          "execution_count": 53
        }
      ]
    },
    {
      "cell_type": "code",
      "source": [
        "#Вывод: кажется, что модель SparkML дает метрику лучше, но умные люди в интернете пишут что-то вроде \"Spark ML weighted version inflates the otherwise Overall metric computation that we observe especially for Binary Classification\".\n",
        "#Поэтому лучшей моделью признан CatBoost."
      ],
      "metadata": {
        "id": "9G5nkQenTZqC"
      },
      "execution_count": 54,
      "outputs": []
    },
    {
      "cell_type": "code",
      "source": [
        "report = metrics.classification_report(y_test, preds, output_dict=True)"
      ],
      "metadata": {
        "id": "DW5Djg5qeGXn"
      },
      "execution_count": 63,
      "outputs": []
    },
    {
      "cell_type": "code",
      "source": [
        "df_score = pd.DataFrame(report).transpose()"
      ],
      "metadata": {
        "id": "MkrchRPcf4pc"
      },
      "execution_count": 64,
      "outputs": []
    },
    {
      "cell_type": "code",
      "source": [
        "df_score.to_parquet('df_score.parquet.gzip', compression='gzip')"
      ],
      "metadata": {
        "id": "JMM3mrbIgZAG"
      },
      "execution_count": 66,
      "outputs": []
    },
    {
      "cell_type": "code",
      "source": [
        "import pickle"
      ],
      "metadata": {
        "id": "jt3Wi0PSgvZq"
      },
      "execution_count": 67,
      "outputs": []
    },
    {
      "cell_type": "code",
      "source": [
        "filename = 'best_model.sav'\n",
        "pickle.dump(model, open(filename, 'wb'))"
      ],
      "metadata": {
        "id": "Yb0fSzlVhGZo"
      },
      "execution_count": 68,
      "outputs": []
    }
  ]
}